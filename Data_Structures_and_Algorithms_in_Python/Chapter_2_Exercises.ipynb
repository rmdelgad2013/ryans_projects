{
 "cells": [
  {
   "cell_type": "markdown",
   "metadata": {},
   "source": [
    "Chapter 2 Exercises\n",
    "==="
   ]
  },
  {
   "cell_type": "markdown",
   "metadata": {},
   "source": [
    "**R-2.4** Write a Python class, Flower, that has three instance variables of type str,\n",
    "int, and float, that respectively represent the name of the flower, its number\n",
    "of petals, and its price. Your class must include a constructor method\n",
    "that initializes each variable to an appropriate value, and your class should\n",
    "include methods for setting the value of each type, and retrieving the value\n",
    "of each type."
   ]
  },
  {
   "cell_type": "code",
   "execution_count": 4,
   "metadata": {
    "collapsed": false
   },
   "outputs": [],
   "source": [
    "class Flower:\n",
    "    \n",
    "    def __init__(self, name, num_petals, price):\n",
    "        self.name = name\n",
    "        self.num_petals = num_petals\n",
    "        self.price = price\n",
    "    \n",
    "    def set_name(self, new_name):\n",
    "        self.name = new_name\n",
    "    \n",
    "    def set_num_petals(self, new_num_petals):\n",
    "        self.num_petals = new_num_petals\n",
    "    \n",
    "    def set_price(self, new_price):\n",
    "        self.price = new_price\n",
    "    \n",
    "    def get_name(self):\n",
    "        return self.name\n",
    "    \n",
    "    def get_num_petals(self):\n",
    "        return self.num_petals\n",
    "    \n",
    "    def get_price(self):\n",
    "        return self.price\n",
    "    \n",
    "flower = Flower('daisy', 7, 2)\n",
    "assert flower.get_name() == 'daisy'\n",
    "assert flower.get_num_petals() == 7\n",
    "assert flower.get_price() == 2\n",
    "\n",
    "flower.set_name('dandelion')\n",
    "assert flower.get_name() == 'dandelion'"
   ]
  },
  {
   "cell_type": "markdown",
   "metadata": {},
   "source": [
    "**R-2.5** Use the techniques of Section 1.7 to revise the charge and make payment\n",
    "methods of the CreditCard class to ensure that the caller sends a number\n",
    "as a parameter.\n",
    "\n",
    "**R-2.6** If the parameter to the make payment method of the CreditCard class\n",
    "were a negative number, that would have the effect of raising the balance\n",
    "on the account. Revise the implementation so that it raises a ValueError if\n",
    "a negative value is sent.\n",
    "\n",
    "**R-2.7** The CreditCard class of Section 2.3 initializes the balance of a new account\n",
    "to zero. Modify that class so that a new account can be given a\n",
    "nonzero balance using an optional fifth parameter to the constructor. The\n",
    "four-parameter constructor syntax should continue to produce an account\n",
    "with zero balance."
   ]
  },
  {
   "cell_type": "code",
   "execution_count": 13,
   "metadata": {
    "collapsed": false
   },
   "outputs": [
    {
     "name": "stdout",
     "output_type": "stream",
     "text": [
      "200\n",
      "500\n"
     ]
    }
   ],
   "source": [
    "class CreditCard:\n",
    "\n",
    "    def __init__(self, customer, bank, acnt, limit, balance=0):\n",
    "        '''Create a new credit card instance.\n",
    "\n",
    "        The initial balance is zero.\n",
    "\n",
    "        customer the name of the customer (e.g., John Bowman )\n",
    "        bank the name of the bank (e.g., California Savings )\n",
    "        acnt the acount identifier (e.g., 5391 0375 9387 5309 )\n",
    "        limit credit limit (measured in dollars)\n",
    "        '''\n",
    "        self.customer = customer\n",
    "        self.bank = bank\n",
    "        self.account = acnt\n",
    "        self.limit = limit\n",
    "        self.balance = balance\n",
    "\n",
    "    def get_customer(self):\n",
    "        return self.customer\n",
    "\n",
    "    def get_bank(self):\n",
    "        return self.bank\n",
    "\n",
    "    def get_account(self):\n",
    "        return self.account\n",
    "\n",
    "    def get_limit(self):\n",
    "        return self.limit\n",
    "\n",
    "    def get_balance(self):\n",
    "        return self.balance\n",
    "    \n",
    "    def charge(self, price):      \n",
    "        if not isinstance(price, (int, float)):\n",
    "            raise TypeError('price must be numeric')\n",
    "        elif price <= 0:\n",
    "            raise ValueError('price cannot be zero or negative.')\n",
    "\n",
    "        if price + self.balance > self.limit: # if charge would exceed limit,\n",
    "            return False # cannot accept charge\n",
    "        else:\n",
    "            self.balance += price\n",
    "            return True\n",
    "\n",
    "    def make_payment(self, amount):\n",
    "        if not isinstance(amount, (int, float)):\n",
    "            raise TypeError('amount must be numeric')\n",
    "        elif amount <= 0:\n",
    "            raise ValueError('amount cannot be zero or negative.')\n",
    "            \n",
    "        self.balance -= amount\n",
    "        \n",
    "barney_card = CreditCard('Barney Rubble', 'Bank of First Rock', '5391 0375 9387 5309', 10000)\n",
    "barney_card.charge(200)\n",
    "print(barney_card.get_balance())\n",
    "\n",
    "al_card = CreditCard('Al Hankering', 'Bank of First Rock', '5391 0375 9387 5310', 10000, 500)\n",
    "print(al_card.get_balance())"
   ]
  },
  {
   "cell_type": "markdown",
   "metadata": {},
   "source": [
    "**C-2.28** The PredatoryCreditCard class of Section 2.4.1 provides a process month\n",
    "method that models the completion of a monthly cycle. Modify the class\n",
    "so that once a customer has made ten calls to charge in the current month,\n",
    "each additional call to that function results in an additional $1 surcharge."
   ]
  },
  {
   "cell_type": "code",
   "execution_count": 20,
   "metadata": {
    "collapsed": false
   },
   "outputs": [
    {
     "name": "stdout",
     "output_type": "stream",
     "text": [
      "100\n",
      "1101\n"
     ]
    }
   ],
   "source": [
    "class PredatoryCreditCard(CreditCard):\n",
    "    '''An extension to CreditCard that compounds interest and fees.'''\n",
    "    \n",
    "    def __init__(self, customer, bank, acnt, limit, apr):\n",
    "        '''Create a new predatory credit card instance.\n",
    "        The initial balance is zero.\n",
    "\n",
    "        customer the name of the customer (e.g., John Bowman )\n",
    "        bank the name of the bank (e.g., California Savings )\n",
    "        acnt the acount identifier (e.g., 5391 0375 9387 5309 )\n",
    "        limit credit limit (measured in dollars)\n",
    "        apr annual percentage rate (e.g., 0.0825 for 8.25% APR)\n",
    "        '''\n",
    "        super().__init__(customer, bank, acnt, limit) # call super constructor\n",
    "        self.apr = apr\n",
    "        self.monthly_charges = 0\n",
    "\n",
    "    def charge(self, price):\n",
    "        '''\n",
    "        Charge given price to the card, assuming sufficient credit limit.\n",
    "\n",
    "        Return True if charge was processed.\n",
    "        Return False and assess 5 fee if charge is denied.\n",
    "        '''\n",
    "        self.monthly_charges += 1\n",
    "        if self.monthly_charges > 10:\n",
    "            self.balance += 1  # $1 surcharge if the account holder has made more than 10 charges for that month\n",
    "            \n",
    "        success = super().charge(price) # call inherited method\n",
    "        if not success:\n",
    "            self.balance += 5 # assess penalty\n",
    "            return success # caller expects return value\n",
    "\n",
    "    def process_month(self):\n",
    "        '''Assess monthly interest on outstanding balance.'''\n",
    "    \n",
    "        self.monthly_charges = 0  # reset monthly charges to zero\n",
    "        \n",
    "        if self.balance > 0:\n",
    "        # if positive balance, convert APR to monthly multiplicative factor\n",
    "            monthly_factor = pow(1 + self.apr, 1/12)\n",
    "            self.balance *= monthly_factor\n",
    "\n",
    "pred_card = PredatoryCreditCard('Joe Schmoe', 'Tiger Bank', '1234 5678', 10000, 0.26)\n",
    "pred_card.charge(100)\n",
    "print(pred_card.get_balance())\n",
    "for i in range(10):\n",
    "    pred_card.charge(100)\n",
    "print(pred_card.get_balance())    \n"
   ]
  },
  {
   "cell_type": "code",
   "execution_count": null,
   "metadata": {
    "collapsed": true
   },
   "outputs": [],
   "source": []
  }
 ],
 "metadata": {
  "kernelspec": {
   "display_name": "Python [conda root]",
   "language": "python",
   "name": "conda-root-py"
  },
  "language_info": {
   "codemirror_mode": {
    "name": "ipython",
    "version": 3
   },
   "file_extension": ".py",
   "mimetype": "text/x-python",
   "name": "python",
   "nbconvert_exporter": "python",
   "pygments_lexer": "ipython3",
   "version": "3.5.2"
  }
 },
 "nbformat": 4,
 "nbformat_minor": 1
}
