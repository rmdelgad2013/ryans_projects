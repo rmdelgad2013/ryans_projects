{
 "cells": [
  {
   "cell_type": "markdown",
   "metadata": {},
   "source": [
    "Chapter 2 Exercises\n",
    "==="
   ]
  },
  {
   "cell_type": "markdown",
   "metadata": {},
   "source": [
    "**R-2.4** Write a Python class, Flower, that has three instance variables of type str,\n",
    "int, and float, that respectively represent the name of the flower, its number\n",
    "of petals, and its price. Your class must include a constructor method\n",
    "that initializes each variable to an appropriate value, and your class should\n",
    "include methods for setting the value of each type, and retrieving the value\n",
    "of each type."
   ]
  },
  {
   "cell_type": "code",
   "execution_count": 4,
   "metadata": {
    "collapsed": false
   },
   "outputs": [],
   "source": [
    "class Flower:\n",
    "    \n",
    "    def __init__(self, name, num_petals, price):\n",
    "        self.name = name\n",
    "        self.num_petals = num_petals\n",
    "        self.price = price\n",
    "    \n",
    "    def set_name(self, new_name):\n",
    "        self.name = new_name\n",
    "    \n",
    "    def set_num_petals(self, new_num_petals):\n",
    "        self.num_petals = new_num_petals\n",
    "    \n",
    "    def set_price(self, new_price):\n",
    "        self.price = new_price\n",
    "    \n",
    "    def get_name(self):\n",
    "        return self.name\n",
    "    \n",
    "    def get_num_petals(self):\n",
    "        return self.num_petals\n",
    "    \n",
    "    def get_price(self):\n",
    "        return self.price\n",
    "    \n",
    "flower = Flower('daisy', 7, 2)\n",
    "assert flower.get_name() == 'daisy'\n",
    "assert flower.get_num_petals() == 7\n",
    "assert flower.get_price() == 2\n",
    "\n",
    "flower.set_name('dandelion')\n",
    "assert flower.get_name() == 'dandelion'"
   ]
  },
  {
   "cell_type": "markdown",
   "metadata": {},
   "source": [
    "**R-2.5** Use the techniques of Section 1.7 to revise the charge and make payment\n",
    "methods of the CreditCard class to ensure that the caller sends a number\n",
    "as a parameter."
   ]
  },
  {
   "cell_type": "code",
   "execution_count": 10,
   "metadata": {
    "collapsed": false
   },
   "outputs": [
    {
     "name": "stdout",
     "output_type": "stream",
     "text": [
      "200\n"
     ]
    },
    {
     "ename": "ValueError",
     "evalue": "price cannot be zero or negative.",
     "output_type": "error",
     "traceback": [
      "\u001b[0;31m---------------------------------------------------------------------------\u001b[0m",
      "\u001b[0;31mValueError\u001b[0m                                Traceback (most recent call last)",
      "\u001b[0;32m<ipython-input-10-07f8f2f318f9>\u001b[0m in \u001b[0;36m<module>\u001b[0;34m()\u001b[0m\n\u001b[1;32m     56\u001b[0m \u001b[0mcard\u001b[0m\u001b[1;33m.\u001b[0m\u001b[0mcharge\u001b[0m\u001b[1;33m(\u001b[0m\u001b[1;36m200\u001b[0m\u001b[1;33m)\u001b[0m\u001b[1;33m\u001b[0m\u001b[0m\n\u001b[1;32m     57\u001b[0m \u001b[0mprint\u001b[0m\u001b[1;33m(\u001b[0m\u001b[0mcard\u001b[0m\u001b[1;33m.\u001b[0m\u001b[0mget_balance\u001b[0m\u001b[1;33m(\u001b[0m\u001b[1;33m)\u001b[0m\u001b[1;33m)\u001b[0m\u001b[1;33m\u001b[0m\u001b[0m\n\u001b[0;32m---> 58\u001b[0;31m \u001b[0mcard\u001b[0m\u001b[1;33m.\u001b[0m\u001b[0mcharge\u001b[0m\u001b[1;33m(\u001b[0m\u001b[1;33m-\u001b[0m\u001b[1;36m5\u001b[0m\u001b[1;33m)\u001b[0m\u001b[1;33m\u001b[0m\u001b[0m\n\u001b[0m",
      "\u001b[0;32m<ipython-input-10-07f8f2f318f9>\u001b[0m in \u001b[0;36mcharge\u001b[0;34m(self, price)\u001b[0m\n\u001b[1;32m     36\u001b[0m             \u001b[1;32mraise\u001b[0m \u001b[0mTypeError\u001b[0m\u001b[1;33m(\u001b[0m\u001b[1;34m'price must be numeric'\u001b[0m\u001b[1;33m)\u001b[0m\u001b[1;33m\u001b[0m\u001b[0m\n\u001b[1;32m     37\u001b[0m         \u001b[1;32melif\u001b[0m \u001b[0mprice\u001b[0m \u001b[1;33m<=\u001b[0m \u001b[1;36m0\u001b[0m\u001b[1;33m:\u001b[0m\u001b[1;33m\u001b[0m\u001b[0m\n\u001b[0;32m---> 38\u001b[0;31m             \u001b[1;32mraise\u001b[0m \u001b[0mValueError\u001b[0m\u001b[1;33m(\u001b[0m\u001b[1;34m'price cannot be zero or negative.'\u001b[0m\u001b[1;33m)\u001b[0m\u001b[1;33m\u001b[0m\u001b[0m\n\u001b[0m\u001b[1;32m     39\u001b[0m \u001b[1;33m\u001b[0m\u001b[0m\n\u001b[1;32m     40\u001b[0m         \u001b[1;32mif\u001b[0m \u001b[0mprice\u001b[0m \u001b[1;33m+\u001b[0m \u001b[0mself\u001b[0m\u001b[1;33m.\u001b[0m\u001b[0mbalance\u001b[0m \u001b[1;33m>\u001b[0m \u001b[0mself\u001b[0m\u001b[1;33m.\u001b[0m\u001b[0mlimit\u001b[0m\u001b[1;33m:\u001b[0m \u001b[1;31m# if charge would exceed limit,\u001b[0m\u001b[1;33m\u001b[0m\u001b[0m\n",
      "\u001b[0;31mValueError\u001b[0m: price cannot be zero or negative."
     ]
    }
   ],
   "source": [
    "class CreditCard:\n",
    "\n",
    "    def __init__(self, customer, bank, acnt, limit):\n",
    "        '''Create a new credit card instance.\n",
    "\n",
    "        The initial balance is zero.\n",
    "\n",
    "        customer the name of the customer (e.g., John Bowman )\n",
    "        bank the name of the bank (e.g., California Savings )\n",
    "        acnt the acount identifier (e.g., 5391 0375 9387 5309 )\n",
    "        limit credit limit (measured in dollars)\n",
    "        '''\n",
    "        self.customer = customer\n",
    "        self.bank = bank\n",
    "        self.account = acnt\n",
    "        self.limit = limit\n",
    "        self.balance = 0\n",
    "\n",
    "    def get_customer(self):\n",
    "        return self.customer\n",
    "\n",
    "    def get_bank(self):\n",
    "        return self.bank\n",
    "\n",
    "    def get_account(self):\n",
    "        return self.account\n",
    "\n",
    "    def get_limit(self):\n",
    "        return self.limit\n",
    "\n",
    "    def get_balance(self):\n",
    "        return self.balance\n",
    "    \n",
    "    def charge(self, price):      \n",
    "        if not isinstance(price, (int, float)):\n",
    "            raise TypeError('price must be numeric')\n",
    "        elif price <= 0:\n",
    "            raise ValueError('price cannot be zero or negative.')\n",
    "\n",
    "        if price + self.balance > self.limit: # if charge would exceed limit,\n",
    "            return False # cannot accept charge\n",
    "        else:\n",
    "            self.balance += price\n",
    "            return True\n",
    "\n",
    "    def make_payment(self, amount):\n",
    "        if not isinstance(amount, (int, float)):\n",
    "            raise TypeError('amount must be numeric')\n",
    "        elif amount <= 0:\n",
    "            raise ValueError('amount cannot be zero or negative.')\n",
    "            \n",
    "        self.balance -= amount\n",
    "        \n",
    "card = CreditCard('Barney Rubble', 'Bank of First Rock', '5391 0375 9387 5309', 10000)\n",
    "card.charge(200)\n",
    "print(card.get_balance())\n",
    "card.charge(-5)"
   ]
  },
  {
   "cell_type": "code",
   "execution_count": null,
   "metadata": {
    "collapsed": true
   },
   "outputs": [],
   "source": []
  }
 ],
 "metadata": {
  "kernelspec": {
   "display_name": "Python [conda root]",
   "language": "python",
   "name": "conda-root-py"
  },
  "language_info": {
   "codemirror_mode": {
    "name": "ipython",
    "version": 3
   },
   "file_extension": ".py",
   "mimetype": "text/x-python",
   "name": "python",
   "nbconvert_exporter": "python",
   "pygments_lexer": "ipython3",
   "version": "3.5.2"
  }
 },
 "nbformat": 4,
 "nbformat_minor": 1
}
