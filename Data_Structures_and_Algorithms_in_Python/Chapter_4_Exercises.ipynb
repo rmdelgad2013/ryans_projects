{
 "cells": [
  {
   "cell_type": "markdown",
   "metadata": {},
   "source": [
    "Chapter 4 Exercises\n",
    "==="
   ]
  },
  {
   "cell_type": "markdown",
   "metadata": {},
   "source": [
    "**C-4.9** Write a short recursive Python function that finds the minimum and maximum\n",
    "values in a sequence without using any loops."
   ]
  },
  {
   "cell_type": "code",
   "execution_count": 53,
   "metadata": {
    "collapsed": false
   },
   "outputs": [
    {
     "name": "stdout",
     "output_type": "stream",
     "text": [
      "43\n",
      "0\n"
     ]
    }
   ],
   "source": [
    "sequence = [3,4,43,2,0,1]\n",
    "# print(max(6,0))\n",
    "\n",
    "def find_max(seq):\n",
    "    # Base case\n",
    "    if len(seq) == 1:\n",
    "        return seq[0]\n",
    "    else:\n",
    "         return max(seq[-1], find_max(seq[:-1]))\n",
    "\n",
    "print(find_max(sequence))\n",
    "\n",
    "def find_min(seq):\n",
    "    # Base case\n",
    "    if len(seq) == 1:\n",
    "        return seq[0]\n",
    "    else:\n",
    "        return min(seq[-1], find_min(seq[:-1]))\n",
    "\n",
    "print(find_min(sequence))"
   ]
  },
  {
   "cell_type": "markdown",
   "metadata": {},
   "source": [
    "**C-4.16** Write a short recursive Python function that takes a character string s and\n",
    "outputs its reverse. For example, the reverse of pots&pans would be\n",
    "snap&stop ."
   ]
  },
  {
   "cell_type": "code",
   "execution_count": 9,
   "metadata": {
    "collapsed": false
   },
   "outputs": [
    {
     "data": {
      "text/plain": [
       "'snap&stop'"
      ]
     },
     "execution_count": 9,
     "metadata": {},
     "output_type": "execute_result"
    }
   ],
   "source": [
    "def reverse(s):\n",
    "    # Base case\n",
    "    if len(s) <= 1:\n",
    "        return s\n",
    "    \n",
    "    return '{}{}{}'.format(s[-1], reverse(s[1:-1]), s[0])\n",
    "\n",
    "reverse('pots&pans')"
   ]
  },
  {
   "cell_type": "markdown",
   "metadata": {},
   "source": [
    "**C-4.17** Write a short recursive Python function that determines if a string s is a\n",
    "palindrome, that is, it is equal to its reverse. For example, \"racecar\" and\n",
    "\"gohangasalamiimalasagnahog\" are palindromes."
   ]
  },
  {
   "cell_type": "code",
   "execution_count": 8,
   "metadata": {
    "collapsed": false
   },
   "outputs": [
    {
     "name": "stdout",
     "output_type": "stream",
     "text": [
      "\n",
      "False\n",
      "True\n",
      "True\n"
     ]
    }
   ],
   "source": [
    "def is_palindrome(word):\n",
    "    # Base case\n",
    "    if len(word) <= 1:\n",
    "        return True\n",
    "    \n",
    "    if word[0] == word[-1]:\n",
    "        return is_palindrome(word[1:-1])\n",
    "    else:\n",
    "        return False\n",
    "    \n",
    "print(is_palindrome('hello'))\n",
    "print(is_palindrome('racecar'))\n",
    "print(is_palindrome('gohangasalamiimalasagnahog'))"
   ]
  },
  {
   "cell_type": "markdown",
   "metadata": {},
   "source": [
    "**C-4.18** Use recursion to write a Python function for determining if a string s has\n",
    "more vowels than consonants."
   ]
  },
  {
   "cell_type": "code",
   "execution_count": 11,
   "metadata": {
    "collapsed": false
   },
   "outputs": [
    {
     "name": "stdout",
     "output_type": "stream",
     "text": [
      "True\n"
     ]
    }
   ],
   "source": [
    "vowels = ['a','e','i','o','u']\n",
    "consonants = ['b','c','d','f','g','h','j','k','l','m','n','p','q','r','s','t','v','w','x','y','z']\n",
    "\n",
    "is_vowel = lambda x: x in vowels\n",
    "is_consonant = lambda x: x in consonants\n",
    "\n",
    "def more_vowels(word, vow_count, cons_count):\n",
    "    # Base case\n",
    "    if len(word) == 0:\n",
    "        return vow_count > cons_count\n",
    "    if is_vowel(word[0]):\n",
    "        return more_vowels(word[1:], vow_count+1, cons_count)\n",
    "    elif is_consonant(word[0]):\n",
    "        return more_vowels(word[1:], vow_count, cons_count+1)\n",
    "    else:  # if neither a consonant or a vowel\n",
    "        return more_vowels(word[1:], vow_count, cons_count)\n",
    "    \n",
    "word = 'beeeee....eeetty'\n",
    "print(more_vowels(word, 0, 0))\n",
    "        "
   ]
  },
  {
   "cell_type": "markdown",
   "metadata": {},
   "source": [
    "**C-4.23** Implement a recursive function with signature find(path, filename) that\n",
    "reports all entries of the file system rooted at the given path having the\n",
    "given file name."
   ]
  },
  {
   "cell_type": "code",
   "execution_count": 9,
   "metadata": {
    "collapsed": false
   },
   "outputs": [
    {
     "ename": "SyntaxError",
     "evalue": "invalid syntax (<ipython-input-9-fcc4f872c420>, line 7)",
     "output_type": "error",
     "traceback": [
      "\u001b[0;36m  File \u001b[0;32m\"<ipython-input-9-fcc4f872c420>\"\u001b[0;36m, line \u001b[0;32m7\u001b[0m\n\u001b[0;31m    if\u001b[0m\n\u001b[0m      ^\u001b[0m\n\u001b[0;31mSyntaxError\u001b[0m\u001b[0;31m:\u001b[0m invalid syntax\n"
     ]
    }
   ],
   "source": [
    "import os\n",
    "root_path = 'C:\\Users\\rmdelgad\\Documents\\Berkeley MIDS'\n",
    "name = 'Untitled.ipynb'\n",
    "dirs = []\n",
    "\n",
    "def find(path, filename, dirs):\n",
    "    # Base case\n",
    "    \n",
    "    subdirs = [x[0] for x in os.walk(path)]\n",
    "    if len(os.listdir(path)) == 0 & :\n",
    "        pass\n",
    "    \n",
    "    \n",
    "    "
   ]
  },
  {
   "cell_type": "code",
   "execution_count": null,
   "metadata": {
    "collapsed": true
   },
   "outputs": [],
   "source": []
  }
 ],
 "metadata": {
  "anaconda-cloud": {},
  "kernelspec": {
   "display_name": "Python [conda root]",
   "language": "python",
   "name": "conda-root-py"
  },
  "language_info": {
   "codemirror_mode": {
    "name": "ipython",
    "version": 3
   },
   "file_extension": ".py",
   "mimetype": "text/x-python",
   "name": "python",
   "nbconvert_exporter": "python",
   "pygments_lexer": "ipython3",
   "version": "3.5.2"
  }
 },
 "nbformat": 4,
 "nbformat_minor": 1
}
