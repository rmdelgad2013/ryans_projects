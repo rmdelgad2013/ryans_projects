{
 "cells": [
  {
   "cell_type": "code",
   "execution_count": 2,
   "metadata": {
    "collapsed": false
   },
   "outputs": [],
   "source": [
    "import os\n",
    "import requests\n",
    "from lxml import html\n",
    "import pandas as pd\n",
    "from scrapy.http import Request, HtmlResponse\n",
    "from twisted.internet import reactor, threads, defer"
   ]
  },
  {
   "cell_type": "code",
   "execution_count": null,
   "metadata": {
    "collapsed": true
   },
   "outputs": [],
   "source": [
    "req = Request(url='https://www.indeed.com/jobs?q=data+scientist&l=')"
   ]
  },
  {
   "cell_type": "code",
   "execution_count": null,
   "metadata": {
    "collapsed": false
   },
   "outputs": [],
   "source": [
    "response = HtmlResponse(url='https://www.indeed.com/jobs?q=data+scientist&l=')"
   ]
  },
  {
   "cell_type": "code",
   "execution_count": null,
   "metadata": {
    "collapsed": false
   },
   "outputs": [],
   "source": [
    "dir(response)"
   ]
  },
  {
   "cell_type": "code",
   "execution_count": null,
   "metadata": {
    "collapsed": false
   },
   "outputs": [],
   "source": [
    "a = yield Request(url=)"
   ]
  },
  {
   "cell_type": "code",
   "execution_count": null,
   "metadata": {
    "collapsed": true
   },
   "outputs": [],
   "source": [
    "def f():\n",
    "    yield Request(url='https://www.indeed.com/jobs?q=data+scientist&l=')"
   ]
  },
  {
   "cell_type": "code",
   "execution_count": null,
   "metadata": {
    "collapsed": true
   },
   "outputs": [],
   "source": [
    "a = f()"
   ]
  },
  {
   "cell_type": "code",
   "execution_count": null,
   "metadata": {
    "collapsed": false
   },
   "outputs": [],
   "source": [
    "g = a.next()"
   ]
  },
  {
   "cell_type": "code",
   "execution_count": null,
   "metadata": {
    "collapsed": false
   },
   "outputs": [],
   "source": [
    "dir(a)"
   ]
  },
  {
   "cell_type": "code",
   "execution_count": null,
   "metadata": {
    "collapsed": false
   },
   "outputs": [],
   "source": [
    "a.send()"
   ]
  },
  {
   "cell_type": "code",
   "execution_count": null,
   "metadata": {
    "collapsed": false
   },
   "outputs": [],
   "source": [
    "dir(a.send)"
   ]
  },
  {
   "cell_type": "code",
   "execution_count": 2,
   "metadata": {
    "collapsed": true
   },
   "outputs": [],
   "source": [
    "def fetch(self, request_or_url, spider=None, redirect=True, **kwargs):\n",
    "    if isinstance(request_or_url, Request):\n",
    "        request = request_or_url\n",
    "    else:\n",
    "        url = any_to_uri(request_or_url)\n",
    "        request = Request(url, dont_filter=True, **kwargs)\n",
    "        if redirect:\n",
    "            request.meta['handle_httpstatus_list'] = SequenceExclude(range(300, 400))\n",
    "        else:\n",
    "            request.meta['handle_httpstatus_all'] = True\n",
    "    response = None\n",
    "    try:\n",
    "        response, spider = threads.blockingCallFromThread(\n",
    "            reactor, self._schedule, request, spider)\n",
    "    except IgnoreRequest:\n",
    "        pass\n",
    "    self.populate_vars(response, request, spider)"
   ]
  },
  {
   "cell_type": "code",
   "execution_count": 3,
   "metadata": {
    "collapsed": false
   },
   "outputs": [
    {
     "ename": "ImportError",
     "evalue": "No module named 'scrapy_splash'",
     "output_type": "error",
     "traceback": [
      "\u001b[0;31m---------------------------------------------------------------------------\u001b[0m",
      "\u001b[0;31mImportError\u001b[0m                               Traceback (most recent call last)",
      "\u001b[0;32m<ipython-input-3-64c0fb72e7d6>\u001b[0m in \u001b[0;36m<module>\u001b[0;34m()\u001b[0m\n\u001b[0;32m----> 1\u001b[0;31m \u001b[0;32mimport\u001b[0m \u001b[0mscrapy_splash\u001b[0m\u001b[0;34m\u001b[0m\u001b[0m\n\u001b[0m",
      "\u001b[0;31mImportError\u001b[0m: No module named 'scrapy_splash'"
     ]
    }
   ],
   "source": [
    "import scrapy_splash"
   ]
  },
  {
   "cell_type": "code",
   "execution_count": 2,
   "metadata": {
    "collapsed": true
   },
   "outputs": [],
   "source": [
    "url = 'https://www.indeed.com/jobs?q=data+scientist&start=10'"
   ]
  },
  {
   "cell_type": "code",
   "execution_count": 3,
   "metadata": {
    "collapsed": true
   },
   "outputs": [],
   "source": [
    "response = requests.get(url)"
   ]
  },
  {
   "cell_type": "code",
   "execution_count": 4,
   "metadata": {
    "collapsed": true
   },
   "outputs": [],
   "source": [
    "page = response.content.decode('utf-8')"
   ]
  },
  {
   "cell_type": "code",
   "execution_count": 5,
   "metadata": {
    "collapsed": false
   },
   "outputs": [],
   "source": [
    "import re"
   ]
  },
  {
   "cell_type": "code",
   "execution_count": 6,
   "metadata": {
    "collapsed": true
   },
   "outputs": [],
   "source": [
    "job_count = int(re.search(r'Page \\d of ((?:\\d{1,3}\\,?){1,})', page).group(1).replace(',' ,''))"
   ]
  },
  {
   "cell_type": "code",
   "execution_count": 7,
   "metadata": {
    "collapsed": false
   },
   "outputs": [
    {
     "data": {
      "text/plain": [
       "2374"
      ]
     },
     "execution_count": 7,
     "metadata": {},
     "output_type": "execute_result"
    }
   ],
   "source": [
    "job_count // 10"
   ]
  },
  {
   "cell_type": "code",
   "execution_count": 8,
   "metadata": {
    "collapsed": true
   },
   "outputs": [],
   "source": [
    "ROOT_URL = 'https://www.indeed.com/jobs?q=data+scientist&start={}'\n",
    "urls = [ROOT_URL.format(i * 10) for i in range(job_count // 10)]"
   ]
  },
  {
   "cell_type": "code",
   "execution_count": 9,
   "metadata": {
    "collapsed": false
   },
   "outputs": [
    {
     "data": {
      "text/plain": [
       "2374"
      ]
     },
     "execution_count": 9,
     "metadata": {},
     "output_type": "execute_result"
    }
   ],
   "source": [
    "len(urls)"
   ]
  },
  {
   "cell_type": "code",
   "execution_count": 11,
   "metadata": {
    "collapsed": true
   },
   "outputs": [],
   "source": [
    "import json\n",
    "from datetime import datetime"
   ]
  },
  {
   "cell_type": "code",
   "execution_count": 16,
   "metadata": {
    "collapsed": false
   },
   "outputs": [],
   "source": [
    "scrape_dict = {\n",
    "    'scrape_date': datetime.now().strftime('%Y-%m-%d'),\n",
    "    'body': response.content.decode('utf-8'),\n",
    "    'url': url\n",
    "}"
   ]
  },
  {
   "cell_type": "code",
   "execution_count": 17,
   "metadata": {
    "collapsed": false
   },
   "outputs": [],
   "source": [
    "boop = json.dumps(scrape_dict)"
   ]
  },
  {
   "cell_type": "code",
   "execution_count": 18,
   "metadata": {
    "collapsed": true
   },
   "outputs": [],
   "source": [
    "url = 'https://www.indeed.com/pagead/clk?mo=r&ad=-6NYlbfkN0Cfk0snhZndNwX7uXgC05fLlvJSb7RrLTWxBCJZfaaW5v_6dOj1owJ7abUPCsjpkiIKdbsfSEuwV54nTYMAJ8oaeP7ppYtXZPMMFmiEre3CuVJWiZpZy27AOpN9WqtC4T2MuyRyk1CmxOfAKoWOuF24N-YEu_5ygkZAA-4V1Ky31SodXf-16zFR5pvBOVf3JYABXlJWWCl3PBUf85L4Tn__Dh6jXtIJHUTu194objAif1xWuNGaCwScUVTSjL1l5OyA19DxYmnqX8SZr7RQjTckK-rNd7WmbpEQ1FaCXkkQV1GMNvEgy5KB-eruChejS9XLf8H1Dg6JPxhFhCILOTOJGNrzKvJXqz4l_PLGXfQckwjyQQXmc-YG7YwAPXzBVcZuMMLA_yziRzGD1S-_uTBxFVpGf6olpJ1I1RPzrr5MC6-QgAZwdZkg&p=1&sk=&fvj=0&tk=1c289qq6r51gjc3e&jsa=3292'"
   ]
  },
  {
   "cell_type": "code",
   "execution_count": 19,
   "metadata": {
    "collapsed": true
   },
   "outputs": [],
   "source": [
    "response = requests.get(url)"
   ]
  },
  {
   "cell_type": "code",
   "execution_count": 20,
   "metadata": {
    "collapsed": true
   },
   "outputs": [],
   "source": [
    "page = response.content.decode('utf-8')"
   ]
  },
  {
   "cell_type": "code",
   "execution_count": 21,
   "metadata": {
    "collapsed": false
   },
   "outputs": [
    {
     "data": {
      "text/plain": [
       "True"
      ]
     },
     "execution_count": 21,
     "metadata": {},
     "output_type": "execute_result"
    }
   ],
   "source": [
    "'Job Description' in page"
   ]
  },
  {
   "cell_type": "code",
   "execution_count": 23,
   "metadata": {
    "collapsed": true
   },
   "outputs": [],
   "source": [
    "url = 'https://www.indeed.com/q-data-scientist-jobs.html'"
   ]
  },
  {
   "cell_type": "code",
   "execution_count": 24,
   "metadata": {
    "collapsed": true
   },
   "outputs": [],
   "source": [
    "response = requests.get(url)"
   ]
  },
  {
   "cell_type": "code",
   "execution_count": 25,
   "metadata": {
    "collapsed": true
   },
   "outputs": [],
   "source": [
    "page = response.content"
   ]
  },
  {
   "cell_type": "code",
   "execution_count": 26,
   "metadata": {
    "collapsed": true
   },
   "outputs": [],
   "source": [
    "tree = html.fromstring(page)"
   ]
  },
  {
   "cell_type": "code",
   "execution_count": 27,
   "metadata": {
    "collapsed": false
   },
   "outputs": [
    {
     "data": {
      "text/plain": [
       "['\\n    Best Buy', '\\n    LexisNexis', '\\n    MaxPoint']"
      ]
     },
     "execution_count": 27,
     "metadata": {},
     "output_type": "execute_result"
    }
   ],
   "source": [
    "tree.xpath('//a[@data-tn-element=\"companyName\"]/text()')"
   ]
  },
  {
   "cell_type": "code",
   "execution_count": 31,
   "metadata": {
    "collapsed": false
   },
   "outputs": [
    {
     "data": {
      "text/plain": [
       "25"
      ]
     },
     "execution_count": 31,
     "metadata": {},
     "output_type": "execute_result"
    }
   ],
   "source": [
    "len(tree.xpath('//span[@class=\"company\"]//text()'))"
   ]
  },
  {
   "cell_type": "code",
   "execution_count": 32,
   "metadata": {
    "collapsed": true
   },
   "outputs": [],
   "source": [
    "my_list = [f for f in tree.xpath('//span[@class=\"company\"]//text()') if f.strip()]"
   ]
  },
  {
   "cell_type": "code",
   "execution_count": 33,
   "metadata": {
    "collapsed": false
   },
   "outputs": [
    {
     "data": {
      "text/plain": [
       "15"
      ]
     },
     "execution_count": 33,
     "metadata": {},
     "output_type": "execute_result"
    }
   ],
   "source": [
    "len(my_list)"
   ]
  },
  {
   "cell_type": "code",
   "execution_count": 30,
   "metadata": {
    "collapsed": false
   },
   "outputs": [
    {
     "data": {
      "text/plain": [
       "15"
      ]
     },
     "execution_count": 30,
     "metadata": {},
     "output_type": "execute_result"
    }
   ],
   "source": [
    "len(tree.xpath('//a[@data-tn-element=\"jobTitle\"]/@title'))"
   ]
  },
  {
   "cell_type": "code",
   "execution_count": 4,
   "metadata": {
    "collapsed": false
   },
   "outputs": [],
   "source": [
    "import json"
   ]
  },
  {
   "cell_type": "code",
   "execution_count": 6,
   "metadata": {
    "collapsed": false
   },
   "outputs": [],
   "source": [
    "my_dict = {\n",
    "    'hey': 'hi',\n",
    "    'g': 'g'\n",
    "}"
   ]
  },
  {
   "cell_type": "code",
   "execution_count": 9,
   "metadata": {
    "collapsed": true
   },
   "outputs": [],
   "source": [
    "SCRAPE_PATH = r'C:\\Users\\rmdelgad\\Documents\\repos\\ryans_projects\\datascientist\\data\\scraped'\n",
    "filename = 'dict.json'\n",
    "filepath = os.path.join(SCRAPE_PATH, filename)"
   ]
  },
  {
   "cell_type": "code",
   "execution_count": 8,
   "metadata": {
    "collapsed": false
   },
   "outputs": [
    {
     "data": {
      "text/plain": [
       "'C:\\\\Users\\\\rmdelgad\\\\Documents\\\\repos\\\\ryans_projects\\\\datascientist\\\\data\\\\scraped\\\\dict'"
      ]
     },
     "execution_count": 8,
     "metadata": {},
     "output_type": "execute_result"
    }
   ],
   "source": [
    "filepath"
   ]
  },
  {
   "cell_type": "code",
   "execution_count": 10,
   "metadata": {
    "collapsed": true
   },
   "outputs": [],
   "source": [
    "with open(filepath, 'w') as f:\n",
    "    json.dump(my_dict, f)"
   ]
  },
  {
   "cell_type": "code",
   "execution_count": 12,
   "metadata": {
    "collapsed": true
   },
   "outputs": [],
   "source": [
    "import re"
   ]
  },
  {
   "cell_type": "code",
   "execution_count": 13,
   "metadata": {
    "collapsed": false
   },
   "outputs": [
    {
     "data": {
      "text/plain": [
       "'hellogoodbye'"
      ]
     },
     "execution_count": 13,
     "metadata": {},
     "output_type": "execute_result"
    }
   ],
   "source": [
    "re.sub(r'[^\\w]', '', 'hello-goodbye')"
   ]
  },
  {
   "cell_type": "code",
   "execution_count": 14,
   "metadata": {
    "collapsed": true
   },
   "outputs": [],
   "source": [
    "page = '''\n",
    "<article rold=\"main\" id=\"main\">\n",
    "                         \n",
    "\n",
    "                        \n",
    " \n",
    "    \n",
    "       \n",
    "         <div id=\"job-detail-wrapper\">\n",
    "\n",
    "            \n",
    "            <hgroup>\n",
    "                <div class=\"left\">\n",
    "                    <h1>Data Scientist</h1>\n",
    "                    <h2>Charlotte, NC; Plano, TX;  - United States</h2>\n",
    "                    <h2>Job number: 17071129</h2>\n",
    "                    <a href=\"/search-jobs.aspx?c=united-states&amp;r=us\" class=\"back\">Back to job search results</a>\n",
    "                </div>\n",
    "                <div class=\"right\">\n",
    "\n",
    "                  \n",
    "                    <a href=\"https://ghr.wd1.myworkdayjobs.com/Lateral-US/job/Charlotte/Data-Scientist_17071129-2/apply\" id=\"PlhContentWrapper_linkApply\" target=\"_blank\" class=\"button apply-button\">Apply Now <span class=\"wai\">for this job</span> &gt;</a><input type=\"submit\" name=\"ctl00$PlhContentWrapper$btnEmailMe\" value=\"Email me\" onclick=\"javascript:WebForm_DoPostBackWithOptions(new WebForm_PostBackOptions(&quot;ctl00$PlhContentWrapper$btnEmailMe&quot;, &quot;&quot;, true, &quot;&quot;, &quot;&quot;, false, false))\" id=\"PlhContentWrapper_btnEmailMe\" class=\"email\"><input type=\"submit\" name=\"ctl00$PlhContentWrapper$btnEmailFriend\" value=\"Email a friend\" onclick=\"javascript:WebForm_DoPostBackWithOptions(new WebForm_PostBackOptions(&quot;ctl00$PlhContentWrapper$btnEmailFriend&quot;, &quot;&quot;, true, &quot;&quot;, &quot;&quot;, false, false))\" id=\"PlhContentWrapper_btnEmailFriend\" class=\"email\">\n",
    "                \n",
    "                </div>\n",
    "            </hgroup>\n",
    "        \n",
    "            <section>\n",
    "                \n",
    "                <div id=\"job-detail\">\n",
    "                <p><b>Job Description:</b></p><p></p><p></p><p><i>Organizational Overview:</i></p><p><span><span>The </span><span>Chief Data Scientist organization </span><span>facilitates </span><span>information advantage and a unified data science strategy across Bank of America.</span></span></p><p></p><p><span><i>Role Overview:</i></span></p><p><span>We </span><span>are looking for </span><span>Data Scientists who will </span><span>help us discover the </span><span>information advantage </span><span>hidden in vast amounts of data, and help us make smarter decisions to deliver even better </span><span>products and services. </span><span>Your primary focus will be in applying data </span><span>science </span><span>techniques, </span><span>including machine learning, deep learning, natural language processing, statistical </span><span>analysis, and building high quality prediction systems </span><span>integrating with </span><span>our </span><span>products and services.</span></p><p></p><p><span>Primary requirement is not related to traditional programming or systems analysis skills but to the ability to create sophisticated, </span><span>value-added, advanced </span><span>analytic systems that support revenue generation, risk management, operational efficiency, regulatory compliance, portfolio management, and research. These systems must overcome issues of </span><span>large, complex, multi-structured </span><span>data as well as </span><span>deploy advanced </span><span>techniques (e.g., machine learning, </span><span>deep learning, natural language processing, </span><span>statistical analysis, etc.) to deliver </span><span>insights.</span></p><p></p><p><i>Key Responsibilities:</i></p><p><i>This role will work with Line of Business partners to enhance revenue and mitigate risk</i></p><ul><li><span>Apply complex techniques to solve real business </span><span>problems</span></li><li><span>Building </span><span>and optimizing classifiers using machine learning techniques</span></li><li><span>Data </span><span>science </span><span>using state-of-the-art </span><span>techniques</span></li><li><span>Extending company’s data with third party sources of information when needed</span></li><li><span>Enhancing data collection procedures to include information that is relevant for building </span><span>insight systems</span></li><li><span>Processing, cleansing, and verifying the integrity of data used for </span><span>analysis</span></li><li><span>Feature engineering</span></li><li><span>Doing ad-hoc </span><span>analysis </span><span>and presenting results in a clear manner</span></li><li><span>Creating automated anomaly detection systems and constant tracking of its </span><span>performance</span></li><li><span>Data visualization</span><u><b> </b></u></li></ul><p></p><p><u><b>Required Skills &amp; Experience:</b></u></p><ul><li><span><span>Extremely strong STEM background<span>&nbsp;&nbsp; </span></span><span>-<span>&nbsp; </span>extensive </span><span>theoretical and practical experiences in Machine Learning, NLP, Deep Learning </span><span>(</span><span>Tensorflow</span><span>), Statistical Modeling, </span><span>Quantitative Analysis, </span><span>Forecasting</span><span>, Data </span><span>Visualization</span></span></li><li><span>Excellent understanding of machine learning techniques and algorithms, such as Gradient Boosted Trees, CNN, RNN LSTM, etc.</span></li><li><span><span>Strong knowledge and high proficiency in </span><span>Python (</span><span>scikit</span><span> learn, pandas, </span><span>numpy</span><span> </span><span>etc.)<span>&nbsp; </span></span><span>SAS, SQL, R &amp; </span><span>MATLAB, C/C++, </span><span>Jupyter</span><span> Notebook</span></span></li><li><span><span>Experience </span><span>with data </span><span>visualization </span><span>tools ex </span><span>Tableau, Shiny</span></span></li><li><span><span>Good </span><span>applied statistics skills, such as distributions, statistical testing, regression, etc.</span></span></li><li><span><span>Data-oriented </span><span>personality</span></span></li><li><span><span>Ability to decompose complex issues and drive timely decisions</span></span></li><li><span><span>Ability to manage multiple and competing priorities</span></span></li><li><span><span>I</span><span>ntellectual </span><span>curiosity to mine </span><span>insights located </span><span>within large sets of structured and unstructured data </span><span>and strong </span><span>ability to clearly and fluently translate technical finds to a non-technical audience</span></span></li></ul><p></p><p></p><p></p><p><span><span>​</span>Enterprise Role Overview:</span></p><p>Responsible for enabling analysis, modeling, and optimization through producing information products. Involved in the research and development efforts. Primary requirement is not related to traditional programming or systems analysis skills, but to the ability to support the creation of sophisticated, value-added analytic systems that support revenue generation, risk management, operational efficiency, regulatory compliance, portfolio management, and research. These systems must overcome issues of complex data (e.g., VLDB, multi-structured, \"big data\", etc.) as well as deployment of advanced techniques (e.g., machine learning, text mining, statistical analysis, etc.) to deliver insights. This role often possesses a degree in hard science or another heavy quantitative business or social discipline. Able to work independently or in a team on complex projects.</p><p></p><p></p>\n",
    "                </div>\n",
    "\n",
    "                \n",
    "\n",
    "                <div class=\"sub-section\">\n",
    "                    <p><b>Posting Date</b>: 12/06/2017 </p>\n",
    "                    \n",
    "                        <p><b>Location</b>: <br>Charlotte, NC, GATEWAY VILLAGE, 800 W TRADE ST, <br>Plano, TX, BUILDING A, 7105 CORPORATE DR, <br> - United States </p>\n",
    "                    \n",
    "                    <!--\n",
    "                    \n",
    "                        <p><b>Language</b>: Language </p>\n",
    "                    \n",
    "                    -->\n",
    "                    \n",
    "                        <p><b>Travel</b>: No </p>\n",
    "                    \n",
    "                    \n",
    "                </div>\n",
    "               \n",
    "                <div class=\"sub-section\">\n",
    "                    \n",
    "                        <p><b>Full / Part-time</b>: Full time </p>\n",
    "                    \n",
    "                        <p><b>Hours Per Week</b>: 40 </p>\n",
    "                    \n",
    "                        <p><b>Shift</b>: 1st shift  </p>\n",
    "                    \n",
    "                    \n",
    "                 </div>\n",
    "\n",
    "\n",
    "\n",
    "            </section>\n",
    "            \n",
    "\n",
    "             \n",
    "        </div>\n",
    "\n",
    "          \n",
    "    <section id=\"job-seeker\" class=\"job\">\n",
    "\n",
    "\n",
    "        <p style=\"display:none\">Already have a candidate profile? <a href=\"https://bacfhrs.taleo.net/careersection/iam/accessmanagement/login.jsf?lang=en&amp;redirectionURI=https%3A%2F%2Fbacfhrs.taleo.net%2Fcareersection%2Fbacextprofile%2Fprofile.ftl%3Flang%3Den&amp;TARGET=https%3A%2F%2Fbacfhrs.taleo.net%2Fcareersection%2Fbacextprofile%2Fprofile.ftl%3Flang%3Den\" id=\"PlhContentWrapper_lnk_login\" target=\"_blank\">Log in <span class=\"wai\">to access and update your current profile</span></a> to access and update your current profile.  </p>\n",
    "\n",
    "        \n",
    "        <h2>Assistance for Applicants with Disabilities</h2>\n",
    "        <p>Bank of America is committed to ensuring that our online application process provides an equal employment opportunity to all job seekers, including individuals with disabilities. If you believe you need a reasonable accommodation in order to search for a job opening or to submit an application, please visit the <a href=\"http://careers.bankofamerica.com/us/applicants-with-disabilities\">Applicants with Disabilities page</a>. </p>\n",
    "\n",
    "        <h2>Diversity &amp; Inclusion</h2>\n",
    "        <p>At Bank of America, our commitment to diversity and inclusion is helping us to create not only a great place to work, but also an environment where our employees, our customers and our communities around the world can reach their goals and connect with each other. All qualified applicants will receive consideration for employment without regard to race, color, religion, gender, gender identity or expression, sexual orientation, national origin, genetics, disability, age, or veteran status. </p>\n",
    "\n",
    "        <h2>Frequently Asked Questions </h2>\n",
    "        <p>Need to know how to apply online, view a list of your submitted job applications or reset your password? Visit our <a href=\"http://careers.bankofamerica.com/us/faq\">FAQ</a> section for answers to these questions and more.</p>\n",
    "\n",
    "        \n",
    "\n",
    "\n",
    "        <div id=\"PlhContentWrapper_p_us_copy\">\n",
    "            <h2>Bank of America Employees</h2>\n",
    "            <p>Bank of America employees should access the <a href=\"https://mycareer.bankofamerica.com/\">internal jobs database</a>.</p>\n",
    "         </div>\n",
    "\n",
    "\n",
    "    </section>\n",
    "\n",
    "    \n",
    "\n",
    "\n",
    "\n",
    "                        </article>\n",
    "'''"
   ]
  },
  {
   "cell_type": "code",
   "execution_count": 34,
   "metadata": {
    "collapsed": true
   },
   "outputs": [],
   "source": [
    "html_tags_to_remove = [\n",
    "    r'(?:<\\/?p(?: \\w+=\"[\\w.:%&;@#$,\\?]+\"){0,7}>',\n",
    "    r'<\\/?h\\d>',\n",
    "    r'<\\/?b>',\n",
    "    r'<\\/?i>',\n",
    "    r'<\\/?u>',\n",
    "    r'<\\/?ul>',\n",
    "    r'<\\/?li>)',\n",
    "    r'&nbsp;'\n",
    "]\n",
    "\n",
    "regex_pattern = r'(?:{})'.format('|'.join(html_tags_to_remove))"
   ]
  },
  {
   "cell_type": "code",
   "execution_count": 31,
   "metadata": {
    "collapsed": true
   },
   "outputs": [],
   "source": [
    "url = 'http://careers.bankofamerica.com/job-detail/17071129/united-states/us/data-scientist?source=Indeed'"
   ]
  },
  {
   "cell_type": "code",
   "execution_count": 32,
   "metadata": {
    "collapsed": true
   },
   "outputs": [],
   "source": [
    "response = requests.get(url)"
   ]
  },
  {
   "cell_type": "code",
   "execution_count": 33,
   "metadata": {
    "collapsed": true
   },
   "outputs": [],
   "source": [
    "page = response.content.decode('utf-8')"
   ]
  },
  {
   "cell_type": "code",
   "execution_count": 35,
   "metadata": {
    "collapsed": true
   },
   "outputs": [],
   "source": [
    "page_cleaned = re.sub(regex_pattern, '', page)"
   ]
  },
  {
   "cell_type": "code",
   "execution_count": 36,
   "metadata": {
    "collapsed": true
   },
   "outputs": [],
   "source": [
    "tree = html.fromstring(page_cleaned)"
   ]
  },
  {
   "cell_type": "code",
   "execution_count": 39,
   "metadata": {
    "collapsed": false
   },
   "outputs": [
    {
     "data": {
      "text/plain": [
       "['\\r\\n                Job Description:Organizational Overview:',\n",
       " 'The ',\n",
       " 'Chief Data Scientist organization ',\n",
       " 'facilitates ',\n",
       " 'information advantage and a unified data science strategy across Bank of America.',\n",
       " 'Role Overview:',\n",
       " 'We ',\n",
       " 'are looking for ',\n",
       " 'Data Scientists who will ',\n",
       " 'help us discover the ',\n",
       " 'information advantage ',\n",
       " 'hidden in vast amounts of data, and help us make smarter decisions to deliver even better ',\n",
       " 'products and services. ',\n",
       " 'Your primary focus will be in applying data ',\n",
       " 'science ',\n",
       " 'techniques, ',\n",
       " 'including machine learning, deep learning, natural language processing, statistical ',\n",
       " 'analysis, and building high quality prediction systems ',\n",
       " 'integrating with ',\n",
       " 'our ',\n",
       " 'products and services.',\n",
       " 'Primary requirement is not related to traditional programming or systems analysis skills but to the ability to create sophisticated, ',\n",
       " 'value-added, advanced ',\n",
       " 'analytic systems that support revenue generation, risk management, operational efficiency, regulatory compliance, portfolio management, and research. These systems must overcome issues of ',\n",
       " 'large, complex, multi-structured ',\n",
       " 'data as well as ',\n",
       " 'deploy advanced ',\n",
       " 'techniques (e.g., machine learning, ',\n",
       " 'deep learning, natural language processing, ',\n",
       " 'statistical analysis, etc.) to deliver ',\n",
       " 'insights.',\n",
       " 'Key Responsibilities:This role will work with Line of Business partners to enhance revenue and mitigate risk',\n",
       " 'Apply complex techniques to solve real business ',\n",
       " 'problems',\n",
       " 'Building ',\n",
       " 'and optimizing classifiers using machine learning techniques',\n",
       " 'Data ',\n",
       " 'science ',\n",
       " 'using state-of-the-art ',\n",
       " 'techniques',\n",
       " 'Extending company’s data with third party sources of information when needed',\n",
       " 'Enhancing data collection procedures to include information that is relevant for building ',\n",
       " 'insight systems',\n",
       " 'Processing, cleansing, and verifying the integrity of data used for ',\n",
       " 'analysis',\n",
       " 'Feature engineering',\n",
       " 'Doing ad-hoc ',\n",
       " 'analysis ',\n",
       " 'and presenting results in a clear manner',\n",
       " 'Creating automated anomaly detection systems and constant tracking of its ',\n",
       " 'performance',\n",
       " 'Data visualization',\n",
       " ' Required Skills & Experience:',\n",
       " 'Extremely strong STEM background',\n",
       " ' ',\n",
       " '-',\n",
       " ' ',\n",
       " 'extensive ',\n",
       " 'theoretical and practical experiences in Machine Learning, NLP, Deep Learning ',\n",
       " '(',\n",
       " 'Tensorflow',\n",
       " '), Statistical Modeling, ',\n",
       " 'Quantitative Analysis, ',\n",
       " 'Forecasting',\n",
       " ', Data ',\n",
       " 'Visualization',\n",
       " 'Excellent understanding of machine learning techniques and algorithms, such as Gradient Boosted Trees, CNN, RNN LSTM, etc.',\n",
       " 'Strong knowledge and high proficiency in ',\n",
       " 'Python (',\n",
       " 'scikit',\n",
       " ' learn, pandas, ',\n",
       " 'numpy',\n",
       " ' ',\n",
       " 'etc.)',\n",
       " ' ',\n",
       " 'SAS, SQL, R & ',\n",
       " 'MATLAB, C/C++, ',\n",
       " 'Jupyter',\n",
       " ' Notebook',\n",
       " 'Experience ',\n",
       " 'with data ',\n",
       " 'visualization ',\n",
       " 'tools ex ',\n",
       " 'Tableau, Shiny',\n",
       " 'Good ',\n",
       " 'applied statistics skills, such as distributions, statistical testing, regression, etc.',\n",
       " 'Data-oriented ',\n",
       " 'personality',\n",
       " 'Ability to decompose complex issues and drive timely decisions',\n",
       " 'Ability to manage multiple and competing priorities',\n",
       " 'I',\n",
       " 'ntellectual ',\n",
       " 'curiosity to mine ',\n",
       " 'insights located ',\n",
       " 'within large sets of structured and unstructured data ',\n",
       " 'and strong ',\n",
       " 'ability to clearly and fluently translate technical finds to a non-technical audience',\n",
       " '\\u200b',\n",
       " 'Enterprise Role Overview:',\n",
       " 'Responsible for enabling analysis, modeling, and optimization through producing information products. Involved in the research and development efforts. Primary requirement is not related to traditional programming or systems analysis skills, but to the ability to support the creation of sophisticated, value-added analytic systems that support revenue generation, risk management, operational efficiency, regulatory compliance, portfolio management, and research. These systems must overcome issues of complex data (e.g., VLDB, multi-structured, \"big data\", etc.) as well as deployment of advanced techniques (e.g., machine learning, text mining, statistical analysis, etc.) to deliver insights. This role often possesses a degree in hard science or another heavy quantitative business or social discipline. Able to work independently or in a team on complex projects.\\r\\n                ']"
      ]
     },
     "execution_count": 39,
     "metadata": {},
     "output_type": "execute_result"
    }
   ],
   "source": [
    "tree.xpath('//div[contains(text(),\"Description\")]//text()')"
   ]
  }
 ],
 "metadata": {
  "anaconda-cloud": {},
  "kernelspec": {
   "display_name": "Python [conda root]",
   "language": "python",
   "name": "conda-root-py"
  },
  "language_info": {
   "codemirror_mode": {
    "name": "ipython",
    "version": 3
   },
   "file_extension": ".py",
   "mimetype": "text/x-python",
   "name": "python",
   "nbconvert_exporter": "python",
   "pygments_lexer": "ipython3",
   "version": "3.5.4"
  }
 },
 "nbformat": 4,
 "nbformat_minor": 1
}
