{
 "cells": [
  {
   "cell_type": "code",
   "execution_count": 1,
   "metadata": {
    "collapsed": true
   },
   "outputs": [],
   "source": [
    "import os\n",
    "import re\n",
    "import json\n",
    "from lxml import html\n",
    "import requests"
   ]
  },
  {
   "cell_type": "code",
   "execution_count": 2,
   "metadata": {
    "collapsed": true
   },
   "outputs": [],
   "source": [
    "SCRAPE_DIR = r'C:\\Users\\rmdelgad\\Documents\\repos\\ryans_projects\\datascientist\\data\\scraped\\20171226'\n",
    "scrape_files = os.listdir(SCRAPE_DIR)"
   ]
  },
  {
   "cell_type": "code",
   "execution_count": 57,
   "metadata": {
    "collapsed": false
   },
   "outputs": [
    {
     "data": {
      "text/plain": [
       "dict_keys(['company', 'scrape_date', 'title', 'body', 'job_url'])"
      ]
     },
     "execution_count": 57,
     "metadata": {},
     "output_type": "execute_result"
    }
   ],
   "source": [
    "scrape_dict.keys()"
   ]
  },
  {
   "cell_type": "code",
   "execution_count": 3,
   "metadata": {
    "collapsed": false
   },
   "outputs": [
    {
     "data": {
      "text/plain": [
       "'23andMeInc_DataScientist_20171226144142279635.json'"
      ]
     },
     "execution_count": 3,
     "metadata": {},
     "output_type": "execute_result"
    }
   ],
   "source": [
    "scrape_files[0]"
   ]
  },
  {
   "cell_type": "code",
   "execution_count": 4,
   "metadata": {
    "collapsed": false
   },
   "outputs": [
    {
     "data": {
      "text/plain": [
       "'C:\\\\Users\\\\rmdelgad\\\\Documents\\\\repos\\\\ryans_projects\\\\datascientist\\\\data\\\\scraped\\\\20171226\\\\23andMeInc_DataScientist_20171226144142279635.json'"
      ]
     },
     "execution_count": 4,
     "metadata": {},
     "output_type": "execute_result"
    }
   ],
   "source": [
    "filepath = os.path.join(SCRAPE_DIR, scrape_files[0])\n",
    "filepath"
   ]
  },
  {
   "cell_type": "code",
   "execution_count": 5,
   "metadata": {
    "collapsed": true
   },
   "outputs": [],
   "source": [
    "with open(filepath, 'r') as f:\n",
    "    scrape_dict = json.load(f)"
   ]
  },
  {
   "cell_type": "code",
   "execution_count": 27,
   "metadata": {
    "collapsed": false
   },
   "outputs": [],
   "source": [
    "page = scrape_dict['body']"
   ]
  },
  {
   "cell_type": "code",
   "execution_count": 52,
   "metadata": {
    "collapsed": false
   },
   "outputs": [],
   "source": [
    "def clean_page(page):\n",
    "    HTML_TAGS_TO_REMOVE = [\n",
    "        r'<\\/?p(?: \\w+=\"[\\w.:%&;@#$,\\?]+\"){0,7}>',\n",
    "        r'<\\/?h\\d>',\n",
    "        r'<\\/?b>',\n",
    "        r'<\\/?i>',\n",
    "        r'<\\/?u>',\n",
    "        r'<\\/?ul>',\n",
    "        r'<li>',\n",
    "        r'<br ?\\/?>',\n",
    "        r'&nbsp;'\n",
    "    ]\n",
    "\n",
    "    regex_pattern = r'(?:{})'.format('|'.join(HTML_TAGS_TO_REMOVE))\n",
    "    page_cleaned = re.sub(regex_pattern, ' ', page)\n",
    "    page_cleaned = re.sub(r'[?.!]', '.', page_cleaned)\n",
    "    page_cleaned = page_cleaned.lower() \\\n",
    "        .replace('\\xa0', ' ')\\\n",
    "        .replace(r'</li>', '.')\n",
    "    \n",
    "    return page_cleaned\n",
    "\n",
    "\n",
    "def parse_descr_from_page(page):\n",
    "    KEYWORDS = [\n",
    "        'requirements',\n",
    "        'description',\n",
    "        'role',\n",
    "        'requirements',\n",
    "        'education',\n",
    "        'qualifications',\n",
    "        'job title',\n",
    "        'what you',\n",
    "        'who we',\n",
    "        'position summary',\n",
    "        'background'\n",
    "    ]\n",
    "\n",
    "    contains_predicate = ' or '.join('contains(text(),\"{}\")'.format(kw) for kw in KEYWORDS)\n",
    "    descr_xpath = '//div[{pred}]//text()'.format(pred=contains_predicate)\n",
    "\n",
    "    tree = html.fromstring(page)\n",
    "    job_descr = ''.join(tree.xpath(descr_xpath))\n",
    "    \n",
    "    return job_descr"
   ]
  },
  {
   "cell_type": "code",
   "execution_count": 53,
   "metadata": {
    "collapsed": false
   },
   "outputs": [],
   "source": [
    "page_cleaned = clean_page(page)"
   ]
  },
  {
   "cell_type": "code",
   "execution_count": 54,
   "metadata": {
    "collapsed": true
   },
   "outputs": [],
   "source": [
    "tree = html.fromstring(page_cleaned)"
   ]
  },
  {
   "cell_type": "code",
   "execution_count": 55,
   "metadata": {
    "collapsed": false
   },
   "outputs": [],
   "source": [
    "descr = parse_descr_from_page(page_cleaned)"
   ]
  },
  {
   "cell_type": "code",
   "execution_count": 56,
   "metadata": {
    "collapsed": false
   },
   "outputs": [
    {
     "name": "stdout",
     "output_type": "stream",
     "text": [
      " 23andme is seeking an experienced data scientist to join our analytics team. we're looking for someone with excellent analytical skills and a great track record applying them to improve the consumer experience.    who we are  since 2006, 23andme’s mission has been to help people access, understand, and benefit from the human genome. we are a group of passionate individuals pushing the boundaries of what’s possible to help turn genetic insight into better health and personal understanding.   what you’ll do    engagement and growth: our goal is to provide a high-value, dynamic experience that delights our customers. you will play a key role by analyzing customer behavior, designing experiments, and helping our team build awesome, data-driven products.. marketing analytics and attribution: what is the optimal way to allocate spend across various customer acquisition channels. how do we measure the effectiveness of non-digital channels like tv and radio.. general data science: the analytics team at 23andme is highly cross-functional and works with groups across the company to help solve problems in a rigorous, data-driven way. example applications include forecasting, web analytics, and data visualization..   what you’ll bring    m.s. in statistics, engineering or computer science, or equivalent work experience. skilled in r, python, and sql. google analytics and aws are a plus. self-starter; reliable team player with strong initiative and the ability to thrive in a high-intensity, rapidly changing environment. excellent communication skills; this role requires regular interaction with team leads from each part of the company. strong applied statistics and data visualization skills. an online sample of your analytical and/or data visualization abilities is greatly appreciated.    about us  23andme, inc. is the leading consumer genetics and research company. our mission is to help people access, understand and benefit from the human genome. the company was named by mit technology review to its “50 smartest companies, 2017” list, and named one of fast company’s “25 brands that matter now, 2017”. 23andme has millions of customers worldwide, with ~85 percent of customers consented to participate in research. 23andme is located in mountain view, ca. more information is available at www.23andme.com.   at 23andme we value a diverse, inclusive work force and we provide equal employment opportunity for all applicants and employees. all qualified applicants for employment will be considered without regard to an individual’s race, color, sex, gender identity, gender expression, religion, age, national origin or ancestry, citizenship, physical or mental disability, medical condition, family care status, marital status, domestic partner status, sexual orientation, genetic information, military or veteran status, or any other basis protected by federal, state or local laws. 23andme will reasonably accommodate qualified individuals with disabilities to the extent required by applicable law.   please note: 23andme does not accept agency resumes and we are not responsible for any fees related to unsolicited resumes. thank you. \n"
     ]
    }
   ],
   "source": [
    "print(descr)"
   ]
  }
 ],
 "metadata": {
  "anaconda-cloud": {},
  "kernelspec": {
   "display_name": "Python [conda root]",
   "language": "python",
   "name": "conda-root-py"
  },
  "language_info": {
   "codemirror_mode": {
    "name": "ipython",
    "version": 3
   },
   "file_extension": ".py",
   "mimetype": "text/x-python",
   "name": "python",
   "nbconvert_exporter": "python",
   "pygments_lexer": "ipython3",
   "version": "3.5.4"
  }
 },
 "nbformat": 4,
 "nbformat_minor": 1
}
