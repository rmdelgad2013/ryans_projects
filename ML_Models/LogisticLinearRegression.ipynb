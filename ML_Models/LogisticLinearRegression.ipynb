{
 "cells": [
  {
   "cell_type": "markdown",
   "metadata": {},
   "source": [
    "#  Linear & Logistic Regression\n",
    "\n",
    "Linear and Logistic Regression are foundational supervised regression & classification algorithms. boop boop more stuff here eventually.\n",
    "\n",
    "\n",
    "I'll use the Boston House Prices dataset (a classic) for Linear Regression, and the bippity boop dataset for Logistic Regression."
   ]
  },
  {
   "cell_type": "code",
   "execution_count": 1,
   "metadata": {
    "collapsed": true
   },
   "outputs": [],
   "source": [
    "from copy import copy\n",
    "import numpy as np\n",
    "from sklearn.linear_model import LinearRegression, Ridge, Lasso, LogisticRegression\n",
    "from sklearn.preprocessing import LabelEncoder\n",
    "from sklearn.datasets import load_iris, load_boston\n",
    "from sklearn.model_selection import train_test_split\n",
    "from sklearn.metrics import accuracy_score, confusion_matrix\n",
    "\n",
    "import matplotlib.pyplot as plt\n",
    "from matplotlib.colors import ListedColormap\n",
    "from matplotlib.colors import LogNorm\n",
    "%matplotlib inline\n",
    "\n",
    "import warnings\n",
    "warnings.filterwarnings('ignore')"
   ]
  },
  {
   "cell_type": "code",
   "execution_count": 10,
   "metadata": {
    "collapsed": true
   },
   "outputs": [],
   "source": [
    "boston = load_boston()\n",
    "iris = load_iris()"
   ]
  },
  {
   "cell_type": "code",
   "execution_count": 4,
   "metadata": {
    "collapsed": false
   },
   "outputs": [
    {
     "data": {
      "text/plain": [
       "sklearn.datasets.base.Bunch"
      ]
     },
     "execution_count": 4,
     "metadata": {},
     "output_type": "execute_result"
    }
   ],
   "source": [
    "type(boston)"
   ]
  },
  {
   "cell_type": "code",
   "execution_count": 5,
   "metadata": {
    "collapsed": false
   },
   "outputs": [
    {
     "data": {
      "text/plain": [
       "['DESCR', 'data', 'feature_names', 'target']"
      ]
     },
     "execution_count": 5,
     "metadata": {},
     "output_type": "execute_result"
    }
   ],
   "source": [
    "dir(boston)"
   ]
  },
  {
   "cell_type": "code",
   "execution_count": 5,
   "metadata": {
    "collapsed": true
   },
   "outputs": [],
   "source": [
    "errors = np.array([1,2,3])"
   ]
  },
  {
   "cell_type": "code",
   "execution_count": 7,
   "metadata": {
    "collapsed": false
   },
   "outputs": [
    {
     "data": {
      "text/plain": [
       "14"
      ]
     },
     "execution_count": 7,
     "metadata": {},
     "output_type": "execute_result"
    }
   ],
   "source": [
    "np.sum(errors ** 2)"
   ]
  },
  {
   "cell_type": "code",
   "execution_count": 24,
   "metadata": {
    "collapsed": false
   },
   "outputs": [
    {
     "data": {
      "text/plain": [
       "array([-37.04805312,  86.7957506 ,   4.09352068])"
      ]
     },
     "execution_count": 24,
     "metadata": {},
     "output_type": "execute_result"
    }
   ],
   "source": [
    "np.random.normal(0,100,3)"
   ]
  },
  {
   "cell_type": "markdown",
   "metadata": {},
   "source": [
    "## Gradient Descent\n",
    "\n",
    "Gradient descent is a simple optimization algorithm that's ubiquitous in model training algorithms. **More explanation on cost functions and gradient descent.**\n",
    "\n",
    "Let's use linear regression as an example (**example? word choice**). A linear model is defined\n",
    "$$\n",
    "y_{i} = \\theta_{0} + \\theta_{1}x_{i}^{(1)} + \\theta_{2}x_{i}^{(2)} + \\ldots + \\theta_{d}x_{i}^{(d)} + \\epsilon_{i}\n",
    "$$\n",
    "\n",
    "for each observation i=1 to N. The fitted values canWe can also write this in matrix form:\n",
    "\n",
    "$$\n",
    "y = X\\theta + \\epsilon\n",
    "$$\n",
    "\n",
    "Where Y is an Nx1 vector, X is an Nxd matrix, $\\theta$ is a dx1 vector, and $\\epsilon$ is an Nx1 vector. To use Gradient Descent to optimize this function we must define a cost function. For linear regression, it's the Mean Squared Error (MSE):\n",
    "\n",
    "$$\n",
    "J(\\theta) = \\frac{1}{N} \\sum_{i=1}^{N}(\\theta^{T}\\textbf{x}_{i} - y_{i})^2\n",
    "$$\n",
    "\n",
    "in matrix notation:\n",
    "\n",
    "$$\n",
    "J(\\theta) = \\frac{1}{N} (\\textbf{X}\\theta - \\textbf{y})^T(\\textbf{X}\\theta - \\textbf{y})\n",
    "$$\n",
    "\n",
    "\n",
    "Let's derive the gradient of $J(\\theta)$ w.r.t to the vector of parameters $\\theta$. First, let's expand out the quadratic terms:\n",
    "\n",
    "$$\n",
    "J(\\theta) = \\frac{1}{N} (\\textbf{X}\\theta - \\textbf{y})^T(\\textbf{X}\\theta - \\textbf{y})\n",
    "$$\n",
    "\n",
    "$$\n",
    "= \\frac{1}{N}( \\theta^{T}\\textbf{X}^{T}\\textbf{X}\\theta + 2\\textbf{y}^{T}\\textbf{X}\\theta + \\textbf{y}^{T}\\textbf{y})\n",
    "$$\n",
    "\n",
    "Now let's find the gradient:\n",
    "\n",
    "$$\n",
    "\\nabla_{\\theta} J(\\theta) = \\frac{1}{N}( 2\\textbf{X}^{T}\\textbf{X}\\theta - 2\\textbf{y}^{T}\\textbf{X} )\n",
    "$$\n",
    "\n",
    "$$\n",
    "= \\frac{2}{N}( \\textbf{X}^{T}\\textbf{X}\\theta - \\textbf{X}^{T}\\textbf{y} )\n",
    "$$\n",
    "\n",
    "\n",
    "$$\n",
    "= \\frac{2}{N} ( \\textbf{X}^{T} ( \\textbf{X}\\theta - \\textbf{y} )  )\n",
    "$$\n",
    "\n",
    "Great. Given data matrix *X*, parameter vector *theta*, and label vector *y*, we can define this in numpy like so:\n",
    "\n",
    "~~~\n",
    "gradient = 2/m * X.T.dot(X.dot(theta) - y)\n",
    "~~~\n",
    "\n",
    "Gradient Descent entails iteratively updating our estimated $\\theta$ vector until we've reached the minimum value of the cost function, or we've reached some predefined limited number of iterations:\n",
    "\n",
    "$$\n",
    "let \\space \\eta = learning \\space rate \\space (some \\space \\space number \\space less \\space than \\space 1, \\space like \\space 0.01) \\\\\n",
    "\\theta_{i+1} = \\theta_{i} - \\eta\\nabla_{\\theta}\n",
    "$$\n",
    "\n",
    "Let's see gradient descent in action! First, we'll create some fake data:"
   ]
  },
  {
   "cell_type": "code",
   "execution_count": 3,
   "metadata": {
    "collapsed": false
   },
   "outputs": [
    {
     "data": {
      "text/plain": [
       "<matplotlib.collections.PathCollection at 0x1f59dcf4470>"
      ]
     },
     "execution_count": 3,
     "metadata": {},
     "output_type": "execute_result"
    },
    {
     "data": {
      "image/png": "[encoded data removed]",
      "text/plain": [
       "<matplotlib.figure.Figure at 0x1f59d873ef0>"
      ]
     },
     "metadata": {},
     "output_type": "display_data"
    }
   ],
   "source": [
    "# Create fake data for a univariate regression, y = 4 + 3x_i + e_i\n",
    "X = 2 * np.random.rand(100,1)\n",
    "y = 4 + 3 * X + np.random.rand(100,1)\n",
    "plt.scatter(X, y)\n"
   ]
  },
  {
   "cell_type": "markdown",
   "metadata": {
    "collapsed": true
   },
   "source": [
    "To illustrate the algorithm, we'll scatter plot the data, then iteratively \n",
    "1. Calculate the gradient of the loss function w.r.t the parameters, and update theta\n",
    "2. Plot the line of best fit for that iteration\n",
    "3. Calculate and save the MSE\n",
    "\n",
    "We'll also plot the MSE as it changes with each iteration."
   ]
  },
  {
   "cell_type": "code",
   "execution_count": 5,
   "metadata": {
    "collapsed": true
   },
   "outputs": [],
   "source": [
    "grad = (2/X.shape[0]) * X_b.T.dot(X_b.dot(theta) - y)"
   ]
  },
  {
   "cell_type": "code",
   "execution_count": 6,
   "metadata": {
    "collapsed": false
   },
   "outputs": [
    {
     "data": {
      "text/plain": [
       "(2, 1)"
      ]
     },
     "execution_count": 6,
     "metadata": {},
     "output_type": "execute_result"
    }
   ],
   "source": [
    "grad.shape"
   ]
  },
  {
   "cell_type": "code",
   "execution_count": 7,
   "metadata": {
    "collapsed": false
   },
   "outputs": [
    {
     "data": {
      "text/plain": [
       "(2, 100)"
      ]
     },
     "execution_count": 7,
     "metadata": {},
     "output_type": "execute_result"
    }
   ],
   "source": [
    "X_b.T.shape"
   ]
  },
  {
   "cell_type": "code",
   "execution_count": 8,
   "metadata": {
    "collapsed": false
   },
   "outputs": [
    {
     "data": {
      "text/plain": [
       "(100, 1)"
      ]
     },
     "execution_count": 8,
     "metadata": {},
     "output_type": "execute_result"
    }
   ],
   "source": [
    "(X_b.dot(theta) - y).shape"
   ]
  },
  {
   "cell_type": "code",
   "execution_count": 4,
   "metadata": {
    "collapsed": false
   },
   "outputs": [
    {
     "data": {
      "text/plain": [
       "<matplotlib.text.Text at 0x1f59ddc2400>"
      ]
     },
     "execution_count": 4,
     "metadata": {},
     "output_type": "execute_result"
    },
    {
     "data": {
      "image/png": "[encoded data removed]",
      "text/plain": [
       "<matplotlib.figure.Figure at 0x1f59dd5e710>"
      ]
     },
     "metadata": {},
     "output_type": "display_data"
    }
   ],
   "source": [
    "# Set up: Add a bias term to X, initialize the parameters to random values, and set the learning rate & number of iterations\n",
    "X_b = np.hstack([np.ones((100,1)), X])  # add a column of ones to X so we also calculate an intercept\n",
    "theta = np.random.rand(2,1)\n",
    "eta = 0.1\n",
    "n_iter = 20\n",
    "\n",
    "f, (ax1, ax2) = plt.subplots(nrows=1, ncols=2)\n",
    "f.set_size_inches(12, 6)\n",
    "\n",
    "# First plot: scatter plot of X & y, with fitted lines that turn more redd with each iteration\n",
    "ax1.scatter(X, y, c='g')\n",
    "ax1.set_title('Scatter of X and y')\n",
    "ax1.set_ylabel('y')\n",
    "ax2.set_xlabel('X')\n",
    "\n",
    "# Set up the colour map for the fitted lines\n",
    "cm = plt.get_cmap('bwr')\n",
    "ax1.set_color_cycle([cm(i/n_iter) for i in range(n_iter)])\n",
    "\n",
    "mses = []\n",
    "\n",
    "for i in range(n_iter):\n",
    "    \n",
    "    # Calculate the gradient and update the parameters\n",
    "    gradient = (2/X.shape[0]) * X_b.T.dot(X_b.dot(theta) - y)\n",
    "    theta -= eta * gradient\n",
    "    \n",
    "    # Calculate the predicted values for all observations, then calculate the MSE\n",
    "    y_pred = X_b.dot(theta)\n",
    "    mse = np.sum(((y_pred - y) ** 2)) / X.shape[0]\n",
    "    \n",
    "    # Plot the fitted line for this iteration in the first plot\n",
    "    ax1.plot(X, y_pred)\n",
    "    \n",
    "    # Save the calculated mse\n",
    "    mses.append(copy(mse))  # append a copy of the mse to the mses list since Python lists are referential\n",
    "    \n",
    "# Second plot: The MSE with each iteration\n",
    "ax2.plot(mses)\n",
    "ax2.set_title('MSE with each iteration')\n",
    "ax2.set_xlabel('Iteration')\n",
    "ax2.set_ylabel('MSE')\n",
    "\n",
    "# f.tight_layout()"
   ]
  },
  {
   "cell_type": "markdown",
   "metadata": {},
   "source": [
    "We can see that with each iteration, the regression line fits the data better, and the MSE falls. **Any more words here?**"
   ]
  },
  {
   "cell_type": "markdown",
   "metadata": {},
   "source": [
    "For logistic regression, the loss function looks like this:\n",
    "\n",
    "$$z _{i} = \\theta^{T}x_{i}$$\n",
    "\n",
    "$$\\sigma(z_{i}) = \\frac{1}{1 + e^{-z}}$$\n",
    "\n",
    "\n",
    "$$J(\\theta) = \\frac{1}{N} \\sum_{i=1}^{N} y_{i}log(\\sigma(z_{i})) + (1 - y_{i})log(1 - \\sigma(z_{i}))$$\n",
    "\n",
    "We'll use the Chain Rule to find the derivative w.r.t $\\theta_{j}$:\n",
    "\n",
    "$$\\frac{\\partial J(\\theta)}{\\partial \\theta_{j}} = \\frac{\\partial J}{\\partial \\sigma}  \\frac{\\partial \\sigma}{\\partial z}  \\frac{\\partial z}{\\partial \\theta_{j}}$$\n",
    "\n",
    "$\\frac{\\partial z}{\\partial \\theta_{j}}$ is just $x_{j}$, while $\\frac{\\partial \\sigma}{\\partial z}$ is $\\sigma(1 - \\sigma)$ (a nice property of the sigmoid function 👍). Thus, $\\frac{\\partial J(\\theta)}{\\partial \\theta_{j}}$ can be derived:\n",
    "\n",
    "$$J(\\theta) = \\frac{1}{N} \\sum_{i=1}^{N} y_{i}log(\\sigma(\\hat{z}_{i})) + (1 - y_{i})log(1 - \\sigma(\\hat{z}_{i}))$$\n",
    "\n",
    "$$\\frac{\\partial J(\\theta)}{\\partial \\theta_{j}} =  \\frac{1}{N} \\sum (\\frac{y_{i}}{\\sigma} - \\frac{1 - y_{i}}{1 - \\sigma})\\sigma(1 - \\sigma)x_{j}$$\n",
    "\n",
    "$$ = \\frac{1}{N} \\sum ( \\frac{y_{i}(1 - \\sigma) - \\sigma(1 - y_{i})}{\\sigma(1 - \\sigma)} ) \\sigma(1 - \\sigma) x_{j}$$\n",
    "\n",
    "$$ = \\frac{1}{N} \\sum ( y_{i} - y_{i}\\sigma - \\sigma + y_{i}\\sigma ) x_{j}$$\n",
    "\n",
    "$$ = \\frac{1}{N} \\sum ( y_{i} - \\sigma )x_{j}$$\n",
    "\n",
    "In a vectorized form:\n",
    "\n",
    "$$\\frac{\\partial J(\\theta)}{\\partial \\theta_{j}} = \\frac{1}{N}\\textbf{x}_{j}^{T}( \\textbf{y} - \\sigma )$$\n",
    "\n",
    "And the gradient w.r.t all $\\theta$s:\n",
    "\n",
    "$$\\nabla_{\\theta} J(\\theta) = \\frac{1}{N} X^{T}( y - \\sigma )$$\n",
    "\n",
    "We can define this in code like so:\n",
    "~~~\n",
    "\n",
    "# Given data matrix X, parameter vector theta, and label vector y (expressed as numpy arrays)\n",
    "\n",
    "def sigmoid(X, theta): \n",
    "    return 1 / (1 + np.exp(X.dot(theta)))\n",
    "\n",
    "logit_gradient = (1/X.shape[0]) * X.T.dot(y - sigmoid(X, theta))\n",
    "~~~\n",
    "\n",
    "Let's illustrate gradient descent for Logistic Regression like we did before with Linear Regression:"
   ]
  },
  {
   "cell_type": "code",
   "execution_count": 2,
   "metadata": {
    "collapsed": false
   },
   "outputs": [
    {
     "ename": "NameError",
     "evalue": "name 'make_classification' is not defined",
     "output_type": "error",
     "traceback": [
      "\u001b[0;31m---------------------------------------------------------------------------\u001b[0m",
      "\u001b[0;31mNameError\u001b[0m                                 Traceback (most recent call last)",
      "\u001b[0;32m<ipython-input-2-0e41c74dd46e>\u001b[0m in \u001b[0;36m<module>\u001b[0;34m()\u001b[0m\n\u001b[1;32m      1\u001b[0m \u001b[1;31m# from sklearn.datasets import make_classification\u001b[0m\u001b[1;33m\u001b[0m\u001b[1;33m\u001b[0m\u001b[0m\n\u001b[1;32m      2\u001b[0m \u001b[1;33m\u001b[0m\u001b[0m\n\u001b[0;32m----> 3\u001b[0;31m X, y = make_classification(n_features=2, n_informative=2, n_redundant=0, \n\u001b[0m\u001b[1;32m      4\u001b[0m                            n_clusters_per_class=1, class_sep=1.1)\n\u001b[1;32m      5\u001b[0m \u001b[1;33m\u001b[0m\u001b[0m\n",
      "\u001b[0;31mNameError\u001b[0m: name 'make_classification' is not defined"
     ]
    }
   ],
   "source": [
    "# from sklearn.datasets import make_classification\n",
    "\n",
    "X, y = make_classification(n_features=2, n_informative=2, n_redundant=0, \n",
    "                           n_clusters_per_class=1, class_sep=1.1)\n",
    "\n",
    "# x1 = np.random.multivariate_normal([0, 0], [[1, .75],[.75, 1]], 50)\n",
    "# x2 = np.random.multivariate_normal([1, 4], [[1, .75],[.75, 1]], 50)\n",
    "\n",
    "# X = np.hstack((x1, x2)).astype(np.float32)\n",
    "# y = np.hstack((np.zeros(50), np.ones(50)))\n",
    "\n",
    "X_b = np.hstack([np.ones((100,1)), X])  # add a column of ones to X so we also calculate an intercept\n",
    "theta = np.random.rand(X.shape[1] + 1)\n",
    "eta = 0.1\n",
    "n_iter = 1000\n",
    "\n",
    "f, ax = plt.subplots(nrows=1, ncols=1)\n",
    "\n",
    "# Scatter plot the data for the two classes in red and blue\n",
    "cm_bright = ListedColormap(['#FF0000', '#0000FF'])\n",
    "ax.scatter(X[:,0], X[:,1], c=y, cmap=cm_bright)\n",
    "\n",
    "cm_logit = plt.get_cmap('Purples')\n",
    "ax.set_color_cycle([cm_logit(i/n_iter) for i in range(n_iter)])\n",
    "\n",
    "def sigmoid(X, theta): \n",
    "    return np.squeeze(1 / (1 + np.exp(-1 * X.dot(theta))))\n",
    "\n",
    "log_losses = []\n",
    "\n",
    "for i in range(n_iter):\n",
    "    logit_gradient = (1/X.shape[0]) * X.T.dot(y - sigmoid(X, theta))\n",
    "    theta += eta * logit_gradient\n",
    "    \n",
    "    log_loss = -1 * (1/X_b.shape[0]) * (np.log(sigmoid(X_b, theta)).dot(y) + np.log(1 - sigmoid(X_b, theta)).dot(1 - y))\n",
    "    log_losses.append(copy(log_loss))\n",
    "    \n",
    "    # Plot the decision boundary\n",
    "    w = theta[1:]\n",
    "    a = -w[0] / w[1]\n",
    "    xx = np.linspace(-2,2)\n",
    "    yy = a * xx - (theta[0] / w[1])\n",
    "    yy = yy / np.max(np.abs(yy))\n",
    "    plt.plot(xx, yy)"
   ]
  },
  {
   "cell_type": "code",
   "execution_count": 52,
   "metadata": {
    "collapsed": false
   },
   "outputs": [
    {
     "data": {
      "image/png": "[encoded data removed]",
      "text/plain": [
       "<matplotlib.figure.Figure at 0x16c977d6a58>"
      ]
     },
     "metadata": {},
     "output_type": "display_data"
    }
   ],
   "source": [
    "np.random.seed(12)\n",
    "num_observations = 100\n",
    "\n",
    "x1 = np.random.multivariate_normal([0, 0], [[1, .75],[.75, 1]], num_observations)\n",
    "x2 = np.random.multivariate_normal([1, 4], [[1, .75],[.75, 1]], num_observations)\n",
    "\n",
    "X = np.vstack((x1, x2)).astype(np.float32)\n",
    "y = np.hstack((np.zeros(num_observations),\n",
    "                              np.ones(num_observations)))\n",
    "\n",
    "X_b = np.hstack([np.ones((200,1)), X])  # add a column of ones to X so we also calculate an intercept\n",
    "theta = np.random.rand(X.shape[1] + 1)\n",
    "eta = 0.001\n",
    "n_iter = 300000\n",
    "\n",
    "f, ax = plt.subplots(nrows=1, ncols=1)\n",
    "cm_bright = ListedColormap(['#FF0000', '#0000FF'])\n",
    "ax.scatter(X[:, 0], X[:, 1], c=y, cmap=cm_bright)\n",
    "\n",
    "cm_logit = plt.get_cmap('Purples')\n",
    "ax.set_color_cycle([cm_logit(i/n_iter) for i in range(n_iter)])\n",
    "\n",
    "def sigmoid(X, theta): \n",
    "    return np.squeeze(1 / (1 + np.exp(-1 * X.dot(theta))))\n",
    "\n",
    "\n",
    "\n",
    "log_losses = []\n",
    "\n",
    "for i in range(n_iter):\n",
    "    logit_gradient = (1/X.shape[0]) * X_b.T.dot(y - sigmoid(X_b, theta))\n",
    "    theta += eta * logit_gradient\n",
    "    \n",
    "    log_loss = (1/X_b.shape[0]) * (np.log(sigmoid(X_b, theta)).dot(y) + np.log(1 - sigmoid(X_b, theta)).dot(1 - y))\n",
    "    log_losses.append(copy(log_loss))\n",
    "    \n",
    "    # Plot the decision boundary\n",
    "#     w = theta[1:]\n",
    "#     a = -w[0] / w[1]\n",
    "#     xx = np.linspace(-2,2)\n",
    "#     yy = a * xx - (theta[0] / w[1])\n",
    "#     yy = yy / np.max(np.abs(yy))\n",
    "#     ax.plot(xx, yy)"
   ]
  },
  {
   "cell_type": "code",
   "execution_count": 53,
   "metadata": {
    "collapsed": false
   },
   "outputs": [
    {
     "data": {
      "text/plain": [
       "array([-5.54105   , -2.14392869,  3.35702276])"
      ]
     },
     "execution_count": 53,
     "metadata": {},
     "output_type": "execute_result"
    }
   ],
   "source": [
    "theta"
   ]
  },
  {
   "cell_type": "code",
   "execution_count": 54,
   "metadata": {
    "collapsed": false
   },
   "outputs": [
    {
     "data": {
      "text/plain": [
       "[<matplotlib.lines.Line2D at 0x16c88f97f60>]"
      ]
     },
     "execution_count": 54,
     "metadata": {},
     "output_type": "execute_result"
    },
    {
     "data": {
      "image/png": "[encoded data removed]",
      "text/plain": [
       "<matplotlib.figure.Figure at 0x16c97892390>"
      ]
     },
     "metadata": {},
     "output_type": "display_data"
    }
   ],
   "source": [
    "f, ax = plt.subplots(nrows=1, ncols=1)\n",
    "cm_bright = ListedColormap(['#FF0000', '#0000FF'])\n",
    "ax.scatter(X[:, 0], X[:, 1], c=y, cmap=cm_bright)\n",
    "\n",
    "\n",
    "w = theta[1:]\n",
    "a = -w[0] / w[1]\n",
    "xx = np.linspace(-2,2)\n",
    "yy = a * xx - (theta[0] / w[1])\n",
    "yy = yy / np.max(np.abs(yy))\n",
    "ax.plot(xx, yy)"
   ]
  },
  {
   "cell_type": "code",
   "execution_count": 43,
   "metadata": {
    "collapsed": false
   },
   "outputs": [
    {
     "data": {
      "text/plain": [
       "[<matplotlib.lines.Line2D at 0x16c97859748>]"
      ]
     },
     "execution_count": 43,
     "metadata": {},
     "output_type": "execute_result"
    },
    {
     "data": {
      "image/png": "[encoded data removed]",
      "text/plain": [
       "<matplotlib.figure.Figure at 0x16c88ef5710>"
      ]
     },
     "metadata": {},
     "output_type": "display_data"
    }
   ],
   "source": [
    "plt.plot(log_losses)"
   ]
  },
  {
   "cell_type": "code",
   "execution_count": 55,
   "metadata": {
    "collapsed": false
   },
   "outputs": [
    {
     "data": {
      "text/plain": [
       "LogisticRegression(C=1000000000000000.0, class_weight=None, dual=False,\n",
       "          fit_intercept=True, intercept_scaling=1, max_iter=100,\n",
       "          multi_class='ovr', n_jobs=1, penalty='l2', random_state=None,\n",
       "          solver='liblinear', tol=0.0001, verbose=0, warm_start=False)"
      ]
     },
     "execution_count": 55,
     "metadata": {},
     "output_type": "execute_result"
    }
   ],
   "source": [
    "clf = LogisticRegression(fit_intercept=True, C = 1e15)\n",
    "clf.fit(X, y)"
   ]
  },
  {
   "cell_type": "code",
   "execution_count": 56,
   "metadata": {
    "collapsed": false
   },
   "outputs": [
    {
     "data": {
      "text/plain": [
       "array([[-3.49640694,  6.29086489]])"
      ]
     },
     "execution_count": 56,
     "metadata": {},
     "output_type": "execute_result"
    }
   ],
   "source": [
    "clf.coef_"
   ]
  },
  {
   "cell_type": "code",
   "execution_count": 57,
   "metadata": {
    "collapsed": false
   },
   "outputs": [
    {
     "data": {
      "text/plain": [
       "array([-11.5153695])"
      ]
     },
     "execution_count": 57,
     "metadata": {},
     "output_type": "execute_result"
    }
   ],
   "source": [
    "clf.intercept_"
   ]
  },
  {
   "cell_type": "code",
   "execution_count": 61,
   "metadata": {
    "collapsed": false
   },
   "outputs": [
    {
     "data": {
      "text/plain": [
       "array([-11.5153695 ,  -3.49640694,   6.29086489])"
      ]
     },
     "execution_count": 61,
     "metadata": {},
     "output_type": "execute_result"
    }
   ],
   "source": [
    "theta2 = np.append(clf.intercept_,clf.coef_)\n",
    "theta2"
   ]
  }
 ],
 "metadata": {
  "anaconda-cloud": {},
  "kernelspec": {
   "display_name": "Python [conda root]",
   "language": "python",
   "name": "conda-root-py"
  },
  "language_info": {
   "codemirror_mode": {
    "name": "ipython",
    "version": 3
   },
   "file_extension": ".py",
   "mimetype": "text/x-python",
   "name": "python",
   "nbconvert_exporter": "python",
   "pygments_lexer": "ipython3",
   "version": "3.5.4"
  }
 },
 "nbformat": 4,
 "nbformat_minor": 1
}
