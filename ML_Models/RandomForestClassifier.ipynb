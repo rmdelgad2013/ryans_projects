{
 "cells": [
  {
   "cell_type": "markdown",
   "metadata": {},
   "source": [
    "# Random Forest Classifier\n",
    "\n",
    "## ToDo: Fill this in"
   ]
  },
  {
   "cell_type": "code",
   "execution_count": 83,
   "metadata": {},
   "outputs": [],
   "source": [
    "from collections import namedtuple\n",
    "\n",
    "import numpy as np\n",
    "from sklearn.tree import DecisionTreeClassifier\n",
    "from sklearn.datasets import load_iris\n",
    "from sklearn.model_selection import train_test_split\n",
    "from sklearn.metrics import accuracy_score, confusion_matrix"
   ]
  },
  {
   "cell_type": "code",
   "execution_count": 89,
   "metadata": {},
   "outputs": [],
   "source": [
    "ForestTree = namedtuple('ForestTree', ['tree', 'feature_inds'])\n",
    "\n",
    "class RandomForestClassifier:\n",
    "    \n",
    "    def __init__(self, n_estimators, n_features, n_samples):\n",
    "        self.n_estimators = n_estimators\n",
    "        self.trees = []\n",
    "        self.n_features = n_features\n",
    "        self.n_samples = n_samples\n",
    "    \n",
    "    def fit(self, X, y):\n",
    "        for i in range(self.n_estimators):         \n",
    "            # Randomly subsample observation-wise and feature-wise\n",
    "            sample_inds = np.random.choice(X.shape[0], size=self.n_samples, replace=False)\n",
    "            sample_feats = np.random.choice(X.shape[1], size=self.n_features, replace=False)\n",
    "            X_sample = X[sample_inds,:][:, sample_feats]  # X[sample_inds, sample_feats] returns a 1d array here.\n",
    "            y_sample = y[sample_inds]\n",
    "    \n",
    "            # Fit the Decision Tree on the subsampled data\n",
    "            tree = DecisionTreeClassifier()\n",
    "            tree.fit(X_sample, y_sample)\n",
    "            self.trees.append(ForestTree(tree, sample_feats))\n",
    "            \n",
    "    def predict(self, X):\n",
    "        all_tree_predictions = np.array([t.tree.predict(X[:, t.feature_inds]) for t in self.trees])\n",
    "        forest_predictions = np.squeeze(mode(all_tree_predictions, axis=0).mode)\n",
    "        return forest_predictions"
   ]
  },
  {
   "cell_type": "code",
   "execution_count": 90,
   "metadata": {},
   "outputs": [],
   "source": [
    "iris = load_iris()\n",
    "X, y = iris.data, iris.target\n",
    "X_train, X_test, y_train, y_test = train_test_split(X, y, test_size=0.2)"
   ]
  },
  {
   "cell_type": "code",
   "execution_count": 91,
   "metadata": {},
   "outputs": [],
   "source": [
    "clf = RandomForestClassifier(n_estimators=100, n_features=2, n_samples=30)\n",
    "clf.fit(X_train, y_train)\n",
    "\n",
    "y_pred = clf.predict(X_test)"
   ]
  },
  {
   "cell_type": "code",
   "execution_count": 95,
   "metadata": {},
   "outputs": [
    {
     "name": "stdout",
     "output_type": "stream",
     "text": [
      "Accuracy score: 0.9666666666666667\n",
      "Confusion matrix:\n",
      "[[ 8  0  0]\n",
      " [ 0 10  1]\n",
      " [ 0  0 11]]\n"
     ]
    }
   ],
   "source": [
    "print('Accuracy score: {}'.format(accuracy_score(y_pred, y_test)))\n",
    "print('Confusion matrix:')\n",
    "print(confusion_matrix(y_pred, y_test))\n",
    "      "
   ]
  }
 ],
 "metadata": {
  "kernelspec": {
   "display_name": "Python 3",
   "language": "python",
   "name": "python3"
  },
  "language_info": {
   "codemirror_mode": {
    "name": "ipython",
    "version": 3
   },
   "file_extension": ".py",
   "mimetype": "text/x-python",
   "name": "python",
   "nbconvert_exporter": "python",
   "pygments_lexer": "ipython3",
   "version": "3.6.4"
  }
 },
 "nbformat": 4,
 "nbformat_minor": 2
}
