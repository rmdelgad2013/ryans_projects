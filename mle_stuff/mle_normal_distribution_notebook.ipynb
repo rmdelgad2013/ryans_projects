{
 "cells": [
  {
   "cell_type": "markdown",
   "metadata": {},
   "source": [
    "Maximum Likelihood Estimation\n",
    "===\n",
    "_by Ryan Delgado_\n",
    "\n",
    "The purpose of this notebook is to introduce or refresh the concept of Maximum Likelihood Estimation (MLE). MLE is a commonly-used method of estimating parameters in a stastical model. It uses probability and numerical optimization to estimate parameters by answering the question \"What is the most likely true value of the parameters that will result in the observations?\"\n",
    "\n",
    "This notebook uses the Normal Distribution as a basic application of MLE. The notebook assumes that you have at least a basic understanding of\n",
    "+ Probability Theory, specifically joint probability\n",
    "+ The Normal Distribution\n",
    "+ Optimization\n",
    "\n",
    "We'll briefly covers the intution behind MLE, and then apply the intuition to an example with the Normal Distribution."
   ]
  },
  {
   "cell_type": "markdown",
   "metadata": {},
   "source": [
    "Definition and Intuition of the Likelihood Function\n",
    "===\n",
    "\n",
    "\n",
    "\n",
    "MLE begins with the Likelihood Function, which is rooted in probability. Recall that the joint probability of events A and B both occurring is the product of their individual probabilities: $P(AB) = P(A)P(B)$. $P(AB)$ is the likelihood of both events A and B occurring, so $P(A)P(B)$ can be thought of as its _ikelihood fucntion_. We can generalize this by saying that the Likelihood Function of a set of a events is the joint probability of the events, or with the function:\n",
    "\n",
    "$$ \\prod_{i=1}^{n} P(x_{i}) $$ \n",
    "\n",
    "for events $ x_{1} $ through $ x_{n} $ where $ P(x_{i}) $ is the probability of event $ x_{i} $ occurring.\n",
    "\n",
    "\n",
    "\n",
    "\n"
   ]
  },
  {
   "cell_type": "markdown",
   "metadata": {},
   "source": [
    "Application of MLE to the Normal Distribution\n",
    "===\n",
    "\n",
    "Say our model is the normal distribution, and we're fitting the model to a set of observations of a random variable $X$. Recall that the normal distribution is defined by the formula\n",
    "$$ f\\left(X, \\mu, \\sigma^{2}\\right) = \\frac{1}{\\sqrt{2\\sigma^{2}\\pi}} e^-{\\frac{\\left(X-\\mu\\right)^2}{2\\sigma^{2}}}$$ \n",
    "\n",
    "A set of $N$ observations of $X$ is a set of $N$ events, so the probability of observing all of these observations is the likelihood function:\n",
    "\n",
    "$$ \\prod_{i=1}^{N} P(X_{i}) = \\prod_{i=1}^{N} \\frac{1}{\\sqrt{2\\sigma^{2}\\pi}} e^-{\\frac{\\left(X_{i}-\\mu\\right)^2}{2\\sigma^{2}}}$$ \n",
    "\n",
    "This can be interpreted as the probability of this set of events occurring by sampling from a normally distributed population with unknown parameters $\\mu$ and $\\sigma$. \n",
    "\n",
    "The true values of $\\mu$ and $\\sigma$ are currently unknown and must be estimated from the data. This is where MLE becomes useful."
   ]
  },
  {
   "cell_type": "markdown",
   "metadata": {},
   "source": [
    "We'll use NumPy and SciPy's optimize toolkit:"
   ]
  },
  {
   "cell_type": "code",
   "execution_count": 1,
   "metadata": {
    "collapsed": true
   },
   "outputs": [],
   "source": [
    "import numpy as np\n",
    "from scipy.optimize import minimize"
   ]
  },
  {
   "cell_type": "markdown",
   "metadata": {},
   "source": [
    "Let's begin by defining the Normal Distribution in a Python function:"
   ]
  },
  {
   "cell_type": "code",
   "execution_count": 2,
   "metadata": {
    "collapsed": true
   },
   "outputs": [],
   "source": [
    "# Define the normal distribution\n",
    "# parameters:\n",
    "#   params - list: contains the mean and std deviation params for the normal distribution\n",
    "#   x - 1d ndarray: contains the observations for the random variable X\n",
    "def normal_dist(params, x):\n",
    "    sig, mu = params\n",
    "    return (1 / np.sqrt(2 * (sig ** 2) * np.pi)) * np.exp((-(x - mu) ** 2) / (2 * (sig ** 2)))"
   ]
  },
  {
   "cell_type": "markdown",
   "metadata": {},
   "source": [
    "We'll define the likelihood function as the product the observation probabilities. I've also taken the natural log of the likelihood function so that it's easier to numerically optimize:"
   ]
  },
  {
   "cell_type": "code",
   "execution_count": 3,
   "metadata": {
    "collapsed": true
   },
   "outputs": [],
   "source": [
    "# Define the likelihood function\n",
    "# parameters:\n",
    "#   params - list: contains the mean and std deviation params for the normal distribution\n",
    "#   x_array - 1d ndarray: an array of the sample\n",
    "def norm_log_likelihood_function(params, x_array):\n",
    "     return np.log(np.prod([normal_dist(params, x) for x in x_array]))"
   ]
  },
  {
   "cell_type": "markdown",
   "metadata": {},
   "source": [
    "Optimizing the Log Likelihood function is equivalent to optimizing the Likelihood function because the Likelihood function monotonically increases. Let's define a lambda function that we'll optimize. I'll be minimizing the negative because it's numerically easier and standard practice:"
   ]
  },
  {
   "cell_type": "code",
   "execution_count": 4,
   "metadata": {
    "collapsed": true
   },
   "outputs": [],
   "source": [
    "nll = lambda *args: -norm_log_likelihood_function(*args)"
   ]
  },
  {
   "cell_type": "markdown",
   "metadata": {},
   "source": [
    "Now we'll create a random, normally-distributed sample of 100 observations with a mean of approximately 5 and standard deviation of approximately 4:"
   ]
  },
  {
   "cell_type": "code",
   "execution_count": 5,
   "metadata": {
    "collapsed": false
   },
   "outputs": [
    {
     "name": "stdout",
     "output_type": "stream",
     "text": [
      "Sample standard deviation (found via np.std): 4.15397283459\n",
      "Sample mean (found via np.mean): 4.91738993881\n"
     ]
    }
   ],
   "source": [
    "sample = np.random.normal(5, 4, 100)\n",
    "sample_std = np.std(sample)\n",
    "sample_mean = np.mean(sample)\n",
    "\n",
    "\n",
    "print(\"Sample standard deviation (found via np.std): %s\" % str(sample_std))\n",
    "print(\"Sample mean (found via np.mean): %s\" % str(sample_mean))"
   ]
  },
  {
   "cell_type": "markdown",
   "metadata": {},
   "source": [
    "We'll use <python>scipy.optimize.minimize </python>to estimate the parameters:"
   ]
  },
  {
   "cell_type": "code",
   "execution_count": 6,
   "metadata": {
    "collapsed": false
   },
   "outputs": [
    {
     "name": "stdout",
     "output_type": "stream",
     "text": [
      "Sample standard deviation (found via MLE): 4.15397263173\n",
      "Sample mean (found via MLE): 4.91738989301\n"
     ]
    }
   ],
   "source": [
    "result = minimize(nll, [4,1], args=(sample))\n",
    "mle_std = result[\"x\"][0]\n",
    "mle_mean = result[\"x\"][1]\n",
    "\n",
    "print(\"Sample standard deviation (found via MLE): %s\" % str(mle_std))\n",
    "print(\"Sample mean (found via MLE): %s\" % str(mle_mean))"
   ]
  },
  {
   "cell_type": "markdown",
   "metadata": {
    "collapsed": true
   },
   "source": [
    "Application of MLE to Ordinary Least Squares Regression\n",
    "===\n",
    "\n",
    "Ordinary Least Squares (OLS) is a method for estimating the parameters in a linear regression model. A linear regression model is a statistical model used to determine the linear relationship between dependent and independent variables. Example linear regression model:\n",
    "\n",
    "$$ y_{i} = \\beta_{0} + \\beta_{1}x_{i}^{(1)} + \\beta_{2}x_{i}^{(2)} + \\varepsilon_{i} $$\n",
    "\n",
    "Where $y_{i}$ is the dependent variable, $x_{i}^{(*)}$ are the independent variable, and $\\varepsilon_{i}$ is the error term. We can more elegantly represent this using matrix notation:\n",
    "\n",
    "$$ \\large Y  \\normalsize =  \\large X\\beta  \\normalsize +  \\large \\varepsilon $$ \n",
    "\n",
    "\n",
    "$$ \n",
    "\\begin{bmatrix} \n",
    "y_{1} \\\\ \\vdots \\\\ y_{i} \\\\\n",
    "\\end{bmatrix}  =  \n",
    "\\begin{bmatrix} \n",
    "x_{1}^{(1)} & \\dots  & x_{1}^{(n)} \\\\ \n",
    "\\vdots & \\ddots & \\vdots \n",
    "\\\\ x_{i}^{(1)} & \\dots  & x_{i}^{(n)} \\\\ \n",
    "\\end{bmatrix} \n",
    "\\begin{bmatrix} \n",
    "\\beta_{1} \\\\ \\vdots \\\\ \\beta_{n} \\\\\n",
    "\\end{bmatrix} +\n",
    "\\begin{bmatrix} \n",
    "\\varepsilon_{1} \\\\ \\vdots \\\\ \\varepsilon_{i} \\\\\n",
    "\\end{bmatrix}\n",
    "$$\n",
    "\n",
    " \n",
    "\n",
    "\n",
    "\n"
   ]
  },
  {
   "cell_type": "markdown",
   "metadata": {},
   "source": [
    "The $\\beta$ parameters in this model can be estimated using MLE. If we assume that the error term is normally distributed with a mean of zero, our Likelihood function will be\n",
    "\n",
    "$$ \\prod_{i=1}^{N} \\frac{1}{\\sqrt{2\\sigma^{2}\\pi}} e^-{\\frac{\\left(y_{i}-X_{i}\\beta\\right)^2}{2\\sigma^{2}}} $$\n",
    "\n",
    "where $X_{i}$ is one observation from the independent variables matrix $X$, and $y_{i}$ is one observation of the dependent variable. Now the parameters to estimate include $\\beta$, the vector of  parameters in the linear model, and $\\sigma$, the standard error.\n",
    "\n",
    "Let's slightly redefine our normal distribution to fit this:"
   ]
  },
  {
   "cell_type": "code",
   "execution_count": 20,
   "metadata": {
    "collapsed": true
   },
   "outputs": [],
   "source": [
    "# Define the function for normally distributed error terms in an OLS model\n",
    "# parameters:\n",
    "#   params - list: contains the 1d ndarray of beta params and std error parameter\n",
    "#   x - 1d ndarray: contains the observation of the independent variables in matrix X\n",
    "#   y - double: contains the observation for the dependent variable y\n",
    "def normal_dist_ols(params, x, y):\n",
    "    sig = params[0]\n",
    "    beta = params[1:]\n",
    "    return (1 / np.sqrt(2 * (sig ** 2) * np.pi)) * np.exp((-(y - np.dot(x,beta)) ** 2) / (2 * (sig ** 2)))"
   ]
  },
  {
   "cell_type": "markdown",
   "metadata": {},
   "source": [
    "We'll generate a random sample of observations for $y$ and $X$. We'll only use one independent variable in $X$ for simplicity, in addition to the intercept column (which is a column of 1s only)."
   ]
  },
  {
   "cell_type": "code",
   "execution_count": 28,
   "metadata": {
    "collapsed": false
   },
   "outputs": [
    {
     "name": "stdout",
     "output_type": "stream",
     "text": [
      "(100, 1)\n",
      "(100, 2)\n"
     ]
    }
   ],
   "source": [
    "y_array = np.mat(np.random.normal(5,4,100)).T\n",
    "x_matrix = np.mat(np.column_stack((np.ones(100), np.random.normal(5,4,100))))\n",
    "print(y_array.shape)\n",
    "print(x_matrix.shape)"
   ]
  },
  {
   "cell_type": "markdown",
   "metadata": {},
   "source": [
    "The analytical derivation of the OLS estimator is:\n",
    "\n",
    "$$ \\large \\beta =  \\left(X^{T}X\\right)^{-1}X^{T}y$$ "
   ]
  },
  {
   "cell_type": "code",
   "execution_count": 40,
   "metadata": {
    "collapsed": false
   },
   "outputs": [
    {
     "name": "stdout",
     "output_type": "stream",
     "text": [
      "Beta calculated with OLS: [[ 4.57113746]\n",
      " [ 0.17612323]]\n"
     ]
    }
   ],
   "source": [
    "beta_ols = np.linalg.inv(x_matrix.T * x_matrix) * (x_matrix.T * y_array)\n",
    "print(\"Beta calculated with OLS: %s\" % str(beta_ols))"
   ]
  },
  {
   "cell_type": "markdown",
   "metadata": {
    "collapsed": true
   },
   "source": [
    "Calculating the error vector: $ \\varepsilon = y - X\\beta $"
   ]
  },
  {
   "cell_type": "code",
   "execution_count": 41,
   "metadata": {
    "collapsed": false
   },
   "outputs": [
    {
     "name": "stdout",
     "output_type": "stream",
     "text": [
      "Standard error calculated with OLS: 3.66545358683\n"
     ]
    }
   ],
   "source": [
    "error_ols = y_array - (x_matrix*beta_ols)\n",
    "standard_error_ols = np.std(error_ols)\n",
    "print(\"Standard error calculated with OLS: %s\" % str(standard_error_ols))"
   ]
  },
  {
   "cell_type": "code",
   "execution_count": 24,
   "metadata": {
    "collapsed": false
   },
   "outputs": [],
   "source": [
    "# Define the likelihood function for OLS\n",
    "# parameters:\n",
    "#   params - list: contains the mean and std deviation params for the normal distribution\n",
    "#   x_array - 1d ndarray: an array of the sample\n",
    "def norm_log_likelihood_function_ols(params, x_matrix, y_array):\n",
    "     return np.log(np.prod([normal_dist_ols(params, x, y) for x,y in zip(x_matrix, y_array)]))\n"
   ]
  },
  {
   "cell_type": "code",
   "execution_count": 38,
   "metadata": {
    "collapsed": true
   },
   "outputs": [],
   "source": [
    "nll = lambda *args: -norm_log_likelihood_function_ols(*args)"
   ]
  },
  {
   "cell_type": "code",
   "execution_count": 39,
   "metadata": {
    "collapsed": false
   },
   "outputs": [
    {
     "name": "stdout",
     "output_type": "stream",
     "text": [
      "Standard error calculated with MLE: 3.66545355161\n",
      "Beta calculated with MLE: [ 4.57113733  0.17612324]\n"
     ]
    },
    {
     "name": "stderr",
     "output_type": "stream",
     "text": [
      "/home/ryan/anaconda3/lib/python3.5/site-packages/ipykernel/__main__.py:6: RuntimeWarning: divide by zero encountered in log\n",
      "/home/ryan/anaconda3/lib/python3.5/site-packages/scipy/optimize/optimize.py:562: RuntimeWarning: invalid value encountered in double_scalars\n",
      "  grad[k] = (f(*((xk + d,) + args)) - f0) / d[k]\n"
     ]
    }
   ],
   "source": [
    "result = minimize(nll, [3,1,2], args=(x_matrix,y_array))\n",
    "standard_error_mle = result.x[0]\n",
    "beta_mle = result.x[1:]\n",
    "print(\"Standard error calculated with MLE: %s\" % str(standard_error_mle))\n",
    "print(\"Beta calculated with MLE: %s\" % str(beta_mle))\n"
   ]
  },
  {
   "cell_type": "code",
   "execution_count": 35,
   "metadata": {
    "collapsed": false
   },
   "outputs": [],
   "source": [
    "x_matrix = np.matrix([[  1.        ,   6.94994988],\n",
    "        [  1.        ,   2.57097494],\n",
    "        [  1.        ,  14.82299387],\n",
    "        [  1.        ,   2.89349953],\n",
    "        [  1.        ,   8.85158973],\n",
    "        [  1.        ,   1.72109583],\n",
    "        [  1.        ,  12.35614618],\n",
    "        [  1.        ,   4.3858166 ],\n",
    "        [  1.        ,   5.72966893],\n",
    "        [  1.        ,   4.18000377],\n",
    "        [  1.        ,   3.47035141],\n",
    "        [  1.        ,   4.41367006],\n",
    "        [  1.        ,   6.46358312],\n",
    "        [  1.        ,   3.38179119],\n",
    "        [  1.        ,   2.0116348 ],\n",
    "        [  1.        ,   0.93207465],\n",
    "        [  1.        ,   7.72801346],\n",
    "        [  1.        ,  -0.64149983],\n",
    "        [  1.        ,   4.09013463],\n",
    "        [  1.        ,   6.51199417],\n",
    "        [  1.        ,  -1.03908805],\n",
    "        [  1.        ,   2.7212677 ],\n",
    "        [  1.        ,   7.05578849],\n",
    "        [  1.        ,  -0.33783952],\n",
    "        [  1.        ,   6.05768977],\n",
    "        [  1.        ,   6.0318944 ],\n",
    "        [  1.        ,   4.68323065],\n",
    "        [  1.        ,   7.5925171 ],\n",
    "        [  1.        ,   4.40124496],\n",
    "        [  1.        ,  11.04051872],\n",
    "        [  1.        ,   2.33038217],\n",
    "        [  1.        ,   9.4807003 ],\n",
    "        [  1.        ,   3.81035522],\n",
    "        [  1.        ,   3.34539868],\n",
    "        [  1.        ,   2.84208758],\n",
    "        [  1.        ,   3.20569011],\n",
    "        [  1.        ,   7.67458933],\n",
    "        [  1.        ,  11.25861729],\n",
    "        [  1.        ,   0.28452869],\n",
    "        [  1.        ,   4.19261083],\n",
    "        [  1.        ,   0.32937752],\n",
    "        [  1.        ,   5.42858041],\n",
    "        [  1.        ,  11.77318979],\n",
    "        [  1.        ,  -0.04258534],\n",
    "        [  1.        ,   6.90855355],\n",
    "        [  1.        ,   7.76165794],\n",
    "        [  1.        ,   9.22692411],\n",
    "        [  1.        ,  11.21614094],\n",
    "        [  1.        ,   4.51017873],\n",
    "        [  1.        ,   7.9192562 ],\n",
    "        [  1.        ,  -0.63873951],\n",
    "        [  1.        ,   2.71132284],\n",
    "        [  1.        ,   2.32586066],\n",
    "        [  1.        ,   5.67447159],\n",
    "        [  1.        ,   9.07004617],\n",
    "        [  1.        ,  -2.83480948],\n",
    "        [  1.        ,  -1.79131889],\n",
    "        [  1.        ,   8.30197317],\n",
    "        [  1.        ,   2.93095062],\n",
    "        [  1.        ,  11.96176571],\n",
    "        [  1.        ,  -6.36946   ],\n",
    "        [  1.        ,  -2.43766379],\n",
    "        [  1.        ,   5.48881055],\n",
    "        [  1.        ,   2.43184415],\n",
    "        [  1.        ,   0.234068  ],\n",
    "        [  1.        ,   5.17917985],\n",
    "        [  1.        ,   3.18024725],\n",
    "        [  1.        ,   1.54511659],\n",
    "        [  1.        ,   8.75895331],\n",
    "        [  1.        ,   3.71067908],\n",
    "        [  1.        ,   8.63282114],\n",
    "        [  1.        ,   6.39396139],\n",
    "        [  1.        ,   5.4610279 ],\n",
    "        [  1.        ,   6.11682272],\n",
    "        [  1.        ,   0.77548433],\n",
    "        [  1.        ,   5.33566695],\n",
    "        [  1.        ,  -1.17034769],\n",
    "        [  1.        ,   2.85068764],\n",
    "        [  1.        ,   2.95666836],\n",
    "        [  1.        ,  -0.19098507],\n",
    "        [  1.        ,   3.04939143],\n",
    "        [  1.        ,  12.33736871],\n",
    "        [  1.        ,   6.42799727],\n",
    "        [  1.        ,   5.24124918],\n",
    "        [  1.        ,  13.52120449],\n",
    "        [  1.        ,   6.73790117],\n",
    "        [  1.        ,   5.06501413],\n",
    "        [  1.        ,   5.13587775],\n",
    "        [  1.        ,   6.87199324],\n",
    "        [  1.        ,   2.55879419],\n",
    "        [  1.        ,  -0.97498737],\n",
    "        [  1.        ,   4.13488122],\n",
    "        [  1.        ,   5.48000614],\n",
    "        [  1.        ,   3.35902965],\n",
    "        [  1.        ,   2.20743287],\n",
    "        [  1.        ,   2.91480841],\n",
    "        [  1.        ,   0.40651731],\n",
    "        [  1.        ,  11.60167366],\n",
    "        [  1.        ,   2.49468233],\n",
    "        [  1.        ,   7.35523564]])"
   ]
  },
  {
   "cell_type": "code",
   "execution_count": 37,
   "metadata": {
    "collapsed": false
   },
   "outputs": [],
   "source": [
    "y_array = np.matrix([[  2.79487415],\n",
    "        [  9.92835915],\n",
    "        [ 10.95872247],\n",
    "        [ 11.94204581],\n",
    "        [  4.43913292],\n",
    "        [  1.62144746],\n",
    "        [  6.18425954],\n",
    "        [  7.70156935],\n",
    "        [  7.52889244],\n",
    "        [  0.58864663],\n",
    "        [  4.04867604],\n",
    "        [  4.80289999],\n",
    "        [  2.52097618],\n",
    "        [  2.36011036],\n",
    "        [  5.3076274 ],\n",
    "        [  7.95797102],\n",
    "        [  3.68310278],\n",
    "        [  5.48664154],\n",
    "        [  7.87145549],\n",
    "        [  9.77846548],\n",
    "        [  2.65302088],\n",
    "        [  8.72380889],\n",
    "        [ 10.40411542],\n",
    "        [  5.64222184],\n",
    "        [  1.78087118],\n",
    "        [ -0.502522  ],\n",
    "        [  9.45844535],\n",
    "        [  0.59886244],\n",
    "        [  3.6733849 ],\n",
    "        [  8.42102646],\n",
    "        [ 10.10177839],\n",
    "        [  7.15548251],\n",
    "        [  1.06145526],\n",
    "        [  7.27982645],\n",
    "        [  6.03049112],\n",
    "        [  2.90777376],\n",
    "        [  7.48799931],\n",
    "        [  4.57614968],\n",
    "        [  3.90642268],\n",
    "        [  5.02585083],\n",
    "        [  8.48503392],\n",
    "        [  4.1053007 ],\n",
    "        [  2.53870435],\n",
    "        [ 12.48227458],\n",
    "        [  6.44093891],\n",
    "        [  5.19357308],\n",
    "        [ 14.14680277],\n",
    "        [ -0.88024987],\n",
    "        [  3.70630819],\n",
    "        [  5.85234948],\n",
    "        [ -1.72067527],\n",
    "        [  5.07891273],\n",
    "        [ -0.60906737],\n",
    "        [  8.40102843],\n",
    "        [ -1.55929981],\n",
    "        [ -4.89282728],\n",
    "        [  7.37245524],\n",
    "        [  8.09221829],\n",
    "        [  5.3106162 ],\n",
    "        [  8.29654554],\n",
    "        [  3.9844709 ],\n",
    "        [  4.18586464],\n",
    "        [ 14.66188717],\n",
    "        [ -0.41814894],\n",
    "        [  1.58789529],\n",
    "        [  0.51421819],\n",
    "        [  5.75884936],\n",
    "        [  4.53897266],\n",
    "        [ 11.45618295],\n",
    "        [  8.59739687],\n",
    "        [  7.79047185],\n",
    "        [  2.68259055],\n",
    "        [  0.9519958 ],\n",
    "        [  3.9463146 ],\n",
    "        [  3.67533769],\n",
    "        [  6.84887336],\n",
    "        [  8.29211936],\n",
    "        [  3.76718003],\n",
    "        [  7.29881612],\n",
    "        [  8.14050611],\n",
    "        [  7.96352309],\n",
    "        [  6.07670512],\n",
    "        [ -0.44445111],\n",
    "        [  7.72759607],\n",
    "        [ 11.40509576],\n",
    "        [  3.16453954],\n",
    "        [  6.26315466],\n",
    "        [  3.77850567],\n",
    "        [ 10.18404707],\n",
    "        [  5.09527775],\n",
    "        [  3.01001974],\n",
    "        [ -0.11951008],\n",
    "        [  6.57355616],\n",
    "        [ 11.19167279],\n",
    "        [  8.11845338],\n",
    "        [ -0.84159516],\n",
    "        [  3.12566902],\n",
    "        [  8.72645231],\n",
    "        [  6.32362077],\n",
    "        [  4.04731287]])"
   ]
  },
  {
   "cell_type": "code",
   "execution_count": null,
   "metadata": {
    "collapsed": true
   },
   "outputs": [],
   "source": []
  }
 ],
 "metadata": {
  "kernelspec": {
   "display_name": "Python 3",
   "language": "python",
   "name": "python3"
  },
  "language_info": {
   "codemirror_mode": {
    "name": "ipython",
    "version": 3
   },
   "file_extension": ".py",
   "mimetype": "text/x-python",
   "name": "python",
   "nbconvert_exporter": "python",
   "pygments_lexer": "ipython3",
   "version": "3.5.1"
  }
 },
 "nbformat": 4,
 "nbformat_minor": 0
}
